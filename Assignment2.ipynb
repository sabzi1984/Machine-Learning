{
  "nbformat": 4,
  "nbformat_minor": 0,
  "metadata": {
    "colab": {
      "name": "Assignment2.ipynb",
      "provenance": [],
      "collapsed_sections": [
        "BFPJWfrlJUnG",
        "_X7_6z6kJRG4",
        "zEhpPb0jw81G",
        "7B_bSmHBLyDA",
        "kZa1unzFWIlp"
      ]
    },
    "kernelspec": {
      "display_name": "Python 3",
      "name": "python3"
    },
    "language_info": {
      "name": "python"
    }
  },
  "cells": [
    {
      "cell_type": "code",
      "metadata": {
        "colab": {
          "base_uri": "https://localhost:8080/"
        },
        "id": "gWAyNGeigyMO",
        "outputId": "fd12c110-3dcc-4df7-e3dd-176badd5c749"
      },
      "source": [
        "from google.colab import drive\n",
        "drive.mount('/content/drive')"
      ],
      "execution_count": null,
      "outputs": [
        {
          "output_type": "stream",
          "name": "stdout",
          "text": [
            "Mounted at /content/drive\n"
          ]
        }
      ]
    },
    {
      "cell_type": "code",
      "metadata": {
        "id": "HCROXBlHgake"
      },
      "source": [
        "import pandas as pd\n",
        "import numpy as np"
      ],
      "execution_count": null,
      "outputs": []
    },
    {
      "cell_type": "markdown",
      "metadata": {
        "id": "Q2yx3LUq4S9D"
      },
      "source": [
        "# 1 Linear Classification and Nearest Neighbor Classification"
      ]
    },
    {
      "cell_type": "markdown",
      "metadata": {
        "id": "BFPJWfrlJUnG"
      },
      "source": [
        "#1.1"
      ]
    },
    {
      "cell_type": "code",
      "metadata": {
        "id": "MmMS8Nm9ghlD"
      },
      "source": [
        "cov_df = pd.read_csv('/content/drive/MyDrive/Automn 2021/Machin Learning/Assignment2/hwk2_datasets (1)/DS1_Cov.txt',delimiter = \",\", header=None)\n",
        "mu_0=pd.read_csv('/content/drive/MyDrive/Automn 2021/Machin Learning/Assignment2/hwk2_datasets (1)/DS1_m_0.txt',delimiter = \",\", header=None)\n",
        "mu_1=pd.read_csv('/content/drive/MyDrive/Automn 2021/Machin Learning/Assignment2/hwk2_datasets (1)/DS1_m_1.txt',delimiter = \",\", header=None)\n",
        "#because of an extra \",\" at the end of each row there is NaN column at the parameters df\n",
        "cov_df=cov_df.drop([20], axis=1)\n",
        "mu_0=mu_0.drop([20], axis=1)\n",
        "mu_1=mu_1.drop([20], axis=1)\n",
        "mu_0=np.transpose((mu_0.to_numpy())[0])\n",
        "mu_1=np.transpose((mu_1.to_numpy())[0])"
      ],
      "execution_count": null,
      "outputs": []
    },
    {
      "cell_type": "code",
      "metadata": {
        "id": "swUlS8PnjxIB"
      },
      "source": [
        "n=2000\n",
        "np.random.seed(0)\n",
        "DS1_c2=np.concatenate((np.round(np.random.multivariate_normal(mu_0,cov_df,n),2),np.zeros((n,1), dtype=int)), axis=1)\n",
        "DS1_c1=np.concatenate((np.round(np.random.multivariate_normal(mu_1,cov_df,n),2),np.ones((n,1), dtype=int)), axis=1)\n",
        "DS1_c2[:,-1:]=-1\n",
        "DS1=np.concatenate((DS1_c1,DS1_c2), axis=0)\n",
        "DS1_df=pd.DataFrame(data=DS1)\n"
      ],
      "execution_count": null,
      "outputs": []
    },
    {
      "cell_type": "code",
      "metadata": {
        "id": "pmCO1YkaHLW7"
      },
      "source": [
        "np.savetxt('/content/drive/MyDrive/Automn 2021/Machin Learning/Assignment2/Assignment2_2078921_1_1.txt', DS1_df, delimiter=',', fmt='%10.2f')"
      ],
      "execution_count": null,
      "outputs": []
    },
    {
      "cell_type": "code",
      "metadata": {
        "id": "KtgiCPENL3Uq"
      },
      "source": [
        "#shuffling the dataset and then dividing the dataset into 3 chunks\n",
        "np.random.shuffle(DS1_c2)\n",
        "np.random.shuffle(DS1_c1)\n",
        "DS1_c1_tr=DS1_c1[:int(len(DS1_c1)*0.6),:]\n",
        "DS1_c2_tr=DS1_c2[:int(len(DS1_c2)*0.6),:]\n",
        "DS1_c1_val=DS1_c1[int(len(DS1_c1)*0.6):int(len(DS1_c1)*0.8),:]\n",
        "DS1_c2_val=DS1_c2[int(len(DS1_c2)*0.6):int(len(DS1_c2)*0.8),:]\n",
        "DS1_c1_test=DS1_c1[int(len(DS1_c1)*0.8):,:]\n",
        "DS1_c2_test=DS1_c2[int(len(DS1_c2)*0.8):,:]"
      ],
      "execution_count": null,
      "outputs": []
    },
    {
      "cell_type": "code",
      "metadata": {
        "id": "oIdPqRih5MyB"
      },
      "source": [
        "#randomly selecting training-validation-test, but it is not exactly 60-20-20\n",
        "# training = np.random.rand(len(DS_m1))<= 0.6\n",
        "# DS_m1_tr=DS_m1[training]\n",
        "# DS_m0_tr=DS_m0[training]\n",
        "\n",
        "# DS_m1_val_test=DS_m1[~training]\n",
        "# DS_m0_val_test=DS_m0[~training]\n",
        "\n",
        "# valid=np.random.rand(len(DS_m0_val_test))<= 0.5\n",
        "# DS_m1_valid=DS_m1_val_test[valid]\n",
        "# DS_m0_valid=DS_m0_val_test[valid]\n",
        "\n",
        "# DS_m1_test=DS_m1_val_test[~valid]\n",
        "# DS_m0_test=DS_m0_val_test[~valid]"
      ],
      "execution_count": null,
      "outputs": []
    },
    {
      "cell_type": "markdown",
      "metadata": {
        "id": "_X7_6z6kJRG4"
      },
      "source": [
        "#1.2"
      ]
    },
    {
      "cell_type": "code",
      "metadata": {
        "id": "TrXKcyRPCVK3"
      },
      "source": [
        "DS1_train=np.concatenate((DS1_c1_tr,DS1_c2_tr), axis=0)[:,:-1]\n",
        "DS1_valid=np.concatenate((DS1_c1_val,DS1_c2_val), axis=0)[:,:-1]\n",
        "\n",
        "cov_DS1_train=np.cov(np.transpose(DS1_train))\n",
        "# DS1_c1_tr_gda=np.concatenate((DS1_c1_tr,DS1_c1_val), axis=0)\n",
        "# DS1_c2_tr_gda=np.concatenate((DS1_c2_tr,DS1_c2_val), axis=0)\n",
        "\n",
        "mu_DS1_c1_tr=np.mean(DS1_c1_tr[:,:-1], axis=0)\n",
        "mu_DS1_c2_tr=np.mean(DS1_c2_tr[:,:-1], axis=0)\n",
        "\n",
        "Prob_c1=len(DS1_c2_tr)/(len(DS1_train))\n",
        "Prob_c2=len(DS1_c2_tr)/(len(DS1_train))"
      ],
      "execution_count": null,
      "outputs": []
    },
    {
      "cell_type": "code",
      "metadata": {
        "colab": {
          "base_uri": "https://localhost:8080/"
        },
        "id": "Jcvi9JWuHXY5",
        "outputId": "aae942bc-1121-4f72-f276-71871d314427"
      },
      "source": [
        "print (f'mean of class positive {mu_DS1_c1_tr}\\n mean of class negative {mu_DS1_c2_tr} \\n covariance matrix {cov_DS1_train}')"
      ],
      "execution_count": null,
      "outputs": [
        {
          "output_type": "stream",
          "name": "stdout",
          "text": [
            "mean of class positive [1.93875    2.04035    2.00395    1.93206667 1.9824     2.01680833\n",
            " 2.0212     1.95595    2.04913333 2.06225    2.00556667 1.99544167\n",
            " 2.00844167 1.96396667 1.98204167 1.95531667 2.02836667 2.00045833\n",
            " 2.01590833 1.94638333]\n",
            " mean of class negative [1.35223333 1.36829167 1.35174167 1.37280833 1.372775   1.38801667\n",
            " 1.33726667 1.331      1.36421667 1.34664167 1.32645    1.36801667\n",
            " 1.39523333 1.35215833 1.39885833 1.40824167 1.3705     1.32318333\n",
            " 1.35100833 1.43431667] \n",
            " covariance matrix [[7.72789246 5.42224429 6.13347836 5.04397802 5.7826346  6.07908704\n",
            "  4.61792218 5.36096565 4.78209151 4.9972451  3.86842885 5.11065223\n",
            "  6.82787198 5.770955   5.97304738 5.77250661 5.74430236 5.40293893\n",
            "  5.46670363 5.65424118]\n",
            " [5.42224429 6.72138528 5.33060056 4.19334511 5.33776762 5.53267315\n",
            "  4.30874912 3.94438777 3.99519787 4.81316511 3.26292643 4.53179665\n",
            "  5.69674058 4.91615227 5.28744291 4.93759335 5.5387463  4.87635486\n",
            "  5.27720156 4.99924922]\n",
            " [6.13347836 5.33060056 7.19948944 4.70956365 5.69835874 6.5486769\n",
            "  4.60014049 4.81952291 4.69677958 4.90102455 3.2409671  4.61279222\n",
            "  6.17351713 5.04427227 5.95299859 5.72948754 6.11738894 4.81346853\n",
            "  4.73865297 4.81342931]\n",
            " [5.04397802 4.19334511 4.70956365 5.6377931  5.19212831 4.36647219\n",
            "  3.68814284 4.33648923 3.21031107 4.04435364 2.704153   4.09450199\n",
            "  5.66265913 4.65807917 4.64762925 4.88592472 4.51101714 4.36850056\n",
            "  3.87370186 5.57537693]\n",
            " [5.7826346  5.33776762 5.69835874 5.19212831 6.93410652 5.33142896\n",
            "  4.99330403 4.41709526 4.42144312 4.9115896  4.01087624 4.95992722\n",
            "  6.06206509 5.67178228 5.8196842  5.95544269 5.76997808 4.93865496\n",
            "  5.33375053 5.51585812]\n",
            " [6.07908704 5.53267315 6.5486769  4.36647219 5.33142896 6.73605883\n",
            "  4.48811748 4.90844272 4.6097119  5.17277072 2.95350326 4.76190295\n",
            "  6.18426288 4.8484938  5.70657178 5.80995719 5.861227   4.78104846\n",
            "  4.81145739 4.94062696]\n",
            " [4.61792218 4.30874912 4.60014049 3.68814284 4.99330403 4.48811748\n",
            "  5.24906794 3.98624064 3.86226539 4.27255914 2.96497618 4.39409207\n",
            "  4.63463722 4.07422928 4.63378196 5.17634738 4.28223279 3.56036042\n",
            "  4.66378865 3.75374883]\n",
            " [5.36096565 3.94438777 4.81952291 4.33648923 4.41709526 4.90844272\n",
            "  3.98624064 6.01593023 3.52323657 4.82678367 2.5314719  4.84920437\n",
            "  6.01239924 5.10258977 4.90183595 6.14783946 4.49299622 4.76223915\n",
            "  4.82964942 4.34149199]\n",
            " [4.78209151 3.99519787 4.69677958 3.21031107 4.42144312 4.6097119\n",
            "  3.86226539 3.52323657 4.70968064 4.41601483 2.98813728 3.95409054\n",
            "  4.81700011 4.36497726 4.68810692 4.94335823 4.89589349 3.84231389\n",
            "  4.0820461  3.79338332]\n",
            " [4.9972451  4.81316511 4.90102455 4.04435364 4.9115896  5.17277072\n",
            "  4.27255914 4.82678367 4.41601483 6.83524655 3.15331992 4.57331895\n",
            "  6.55998945 4.91566643 4.80659879 5.6966514  4.52273833 4.99001862\n",
            "  4.38568424 5.04211933]\n",
            " [3.86842885 3.26292643 3.2409671  2.704153   4.01087624 2.95350326\n",
            "  2.96497618 2.5314719  2.98813728 3.15331992 3.30940248 2.85596681\n",
            "  3.6121707  3.75027659 3.49002593 3.49735141 3.54776193 3.05231782\n",
            "  3.64959755 3.33397297]\n",
            " [5.11065223 4.53179665 4.61279222 4.09450199 4.95992722 4.76190295\n",
            "  4.39409207 4.84920437 3.95409054 4.57331895 2.85596681 5.20334936\n",
            "  5.78212571 4.86423261 4.7359334  5.47538433 4.9544054  4.66098439\n",
            "  4.98297334 4.28749181]\n",
            " [6.82787198 5.69674058 6.17351713 5.66265913 6.06206509 6.18426288\n",
            "  4.63463722 6.01239924 4.81700011 6.55998945 3.6121707  5.78212571\n",
            "  8.66015523 6.01793624 6.03714894 6.28173162 5.74631755 5.9939172\n",
            "  5.69495396 6.91456814]\n",
            " [5.770955   4.91615227 5.04427227 4.65807917 5.67178228 4.8484938\n",
            "  4.07422928 5.10258977 4.36497726 4.91566643 3.75027659 4.86423261\n",
            "  6.01793624 6.54521513 5.66492117 6.01936714 5.47593062 5.29984997\n",
            "  5.68221733 5.19798396]\n",
            " [5.97304738 5.28744291 5.95299859 4.64762925 5.8196842  5.70657178\n",
            "  4.63378196 4.90183595 4.68810692 4.80659879 3.49002593 4.7359334\n",
            "  6.03714894 5.66492117 6.78302614 6.94265035 5.6624607  4.91391202\n",
            "  5.38841403 5.45241864]\n",
            " [5.77250661 4.93759335 5.72948754 4.88592472 5.95544269 5.80995719\n",
            "  5.17634738 6.14783946 4.94335823 5.6966514  3.49735141 5.47538433\n",
            "  6.28173162 6.01936714 6.94265035 9.08248299 5.67190263 5.57299476\n",
            "  5.56339459 5.56209746]\n",
            " [5.74430236 5.5387463  6.11738894 4.51101714 5.76997808 5.861227\n",
            "  4.28223279 4.49299622 4.89589349 4.52273833 3.54776193 4.9544054\n",
            "  5.74631755 5.47593062 5.6624607  5.67190263 6.60751706 4.97772863\n",
            "  5.26110805 4.66767089]\n",
            " [5.40293893 4.87635486 4.81346853 4.36850056 4.93865496 4.78104846\n",
            "  3.56036042 4.76223915 3.84231389 4.99001862 3.05231782 4.66098439\n",
            "  5.9939172  5.29984997 4.91391202 5.57299476 4.97772863 5.5815292\n",
            "  4.63018203 4.80884705]\n",
            " [5.46670363 5.27720156 4.73865297 3.87370186 5.33375053 4.81145739\n",
            "  4.66378865 4.82964942 4.0820461  4.38568424 3.64959755 4.98297334\n",
            "  5.69495396 5.68221733 5.38841403 5.56339459 5.26110805 4.63018203\n",
            "  6.26766632 4.69581996]\n",
            " [5.65424118 4.99924922 4.81342931 5.57537693 5.51585812 4.94062696\n",
            "  3.75374883 4.34149199 3.79338332 5.04211933 3.33397297 4.28749181\n",
            "  6.91456814 5.19798396 5.45241864 5.56209746 4.66767089 4.80884705\n",
            "  4.69581996 7.60991751]]\n"
          ]
        }
      ]
    },
    {
      "cell_type": "code",
      "metadata": {
        "id": "hDWTz3QNHHdi"
      },
      "source": [
        "#p(c1)=p(c2)\n",
        "w1=np.dot(np.linalg.inv(cov_DS1_train),(mu_DS1_c1_tr-mu_DS1_c2_tr))\n",
        "w0=-0.5*(np.dot(np.transpose(mu_DS1_c1_tr),np.dot(np.linalg.inv(cov_DS1_train),mu_DS1_c1_tr))-np.dot(np.transpose(mu_DS1_c2_tr),np.dot(np.linalg.inv(cov_DS1_train),mu_DS1_c2_tr)))+np.log(Prob_c1/Prob_c2)"
      ],
      "execution_count": null,
      "outputs": []
    },
    {
      "cell_type": "code",
      "metadata": {
        "colab": {
          "base_uri": "https://localhost:8080/"
        },
        "id": "-6p9NWZUQjz2",
        "outputId": "601b678a-0631-4390-c7a1-79af11844118"
      },
      "source": [
        "print('w0= ',w0)\n",
        "print ('w1= ',np.transpose(w1))\n"
      ],
      "execution_count": null,
      "outputs": [
        {
          "output_type": "stream",
          "name": "stdout",
          "text": [
            "w0=  -6.9722202565911875\n",
            "w1=  [-3.69749872  2.18216556  1.39425693  0.70682934  2.47344432  1.02142894\n",
            " -4.19249754  6.22372425  7.37054204 -2.32458815  3.33191497  3.08292706\n",
            " -3.97772234 -3.26423599  1.50023968 -3.39030468 -7.33865042  1.74979988\n",
            "  0.03420584  1.33356581]\n"
          ]
        }
      ]
    },
    {
      "cell_type": "code",
      "metadata": {
        "id": "Il0MpLf5MQks"
      },
      "source": [
        "def sigmoid(x):\n",
        "  return 1/(1+np.exp(-x))"
      ],
      "execution_count": null,
      "outputs": []
    },
    {
      "cell_type": "code",
      "metadata": {
        "id": "oMLB4EsH1sfi"
      },
      "source": [
        "DS1_valid_class=np.transpose(np.concatenate((DS1_c1_val,DS1_c2_val), axis=0)[:,-1:])[0]"
      ],
      "execution_count": null,
      "outputs": []
    },
    {
      "cell_type": "code",
      "metadata": {
        "id": "lDE-_6gX2CZI"
      },
      "source": [
        "P_c1_valid=sigmoid(w0+np.dot(DS1_valid,w1))"
      ],
      "execution_count": null,
      "outputs": []
    },
    {
      "cell_type": "code",
      "metadata": {
        "id": "9IJt0lpZ2X6F"
      },
      "source": [
        "P_c1_valid = np.where(P_c1_valid > 0.5, 1, P_c1_valid)\n",
        "P_c1_valid = np.where(P_c1_valid < 0.5, -1, P_c1_valid)"
      ],
      "execution_count": null,
      "outputs": []
    },
    {
      "cell_type": "code",
      "metadata": {
        "colab": {
          "base_uri": "https://localhost:8080/"
        },
        "id": "Yq12UE942lpi",
        "outputId": "85a915a7-fb3b-4140-d966-8aa80cbbbc81"
      },
      "source": [
        "TP_neg_valid=np.sum((P_c1_valid==-1) & (DS1_valid_class== -1))\n",
        "TN_neg_valid=np.sum((P_c1_valid!=-1) & (DS1_valid_class!= -1))\n",
        "FP_neg_valid=np.sum((P_c1_valid==-1) & (DS1_valid_class!= -1))\n",
        "FN_neg_valid=np.sum((P_c1_valid!=-1) & (DS1_valid_class== -1))\n",
        "\n",
        "TP_pos_valid=np.sum((P_c1_valid==1) & (DS1_valid_class== 1))\n",
        "TN_pos_valid=np.sum((P_c1_valid!=1) & (DS1_valid_class!= 1))\n",
        "FP_pos_valid=np.sum((P_c1_valid==1) & (DS1_valid_class!= 1))\n",
        "FN_pos_valid=np.sum((P_c1_valid!=1) & (DS1_valid_class== 1))\n",
        "\n",
        "Accuracy_pos_valid=(TP_pos_valid+TN_pos_valid)/(TP_pos_valid+TN_pos_valid+FP_pos_valid+FN_pos_valid)\n",
        "\n",
        "Accuracy_neg_valid=(TP_neg_valid+TN_neg_valid)/(TP_neg_valid+TN_neg_valid+FP_neg_valid+FN_neg_valid)\n",
        "\n",
        "\n",
        "print ('True Positive of positive class:',TP_pos_valid)\n",
        "print ('True Negative of positive class:',TN_pos_valid)\n",
        "print ('False Positive of positive class:',FP_pos_valid)\n",
        "print ('False Negative of positive class:',FN_pos_valid)\n",
        "print ('True Positive of negative class:',TP_neg_valid)\n",
        "print ('True Negative of negative class:',TN_neg_valid)\n",
        "print ('False Positive of negative class:',FP_neg_valid)\n",
        "print ('False Negative of negative class:',FN_neg_valid)\n",
        "\n",
        "print('Accuracy of Negative class:',Accuracy_neg_valid)\n",
        "\n",
        "print('Accuracy of Positive class:',Accuracy_pos_valid)"
      ],
      "execution_count": null,
      "outputs": [
        {
          "output_type": "stream",
          "name": "stdout",
          "text": [
            "True Positive of positive class: 386\n",
            "True Negative of positive class: 378\n",
            "False Positive of positive class: 22\n",
            "False Negative of positive class: 14\n",
            "True Positive of negative class: 378\n",
            "True Negative of negative class: 386\n",
            "False Positive of negative class: 14\n",
            "False Negative of negative class: 22\n",
            "Accuracy of Negative class: 0.955\n",
            "Accuracy of Positive class: 0.955\n"
          ]
        }
      ]
    },
    {
      "cell_type": "code",
      "metadata": {
        "id": "xg7G_H6TPxji"
      },
      "source": [
        "DS1_test=np.concatenate((DS1_c1_test,DS1_c2_test), axis=0)[:,:-1]\n",
        "P_c1=sigmoid(w0+np.dot(DS1_test,w1))"
      ],
      "execution_count": null,
      "outputs": []
    },
    {
      "cell_type": "code",
      "metadata": {
        "colab": {
          "base_uri": "https://localhost:8080/"
        },
        "id": "VcY-6KcD44r5",
        "outputId": "061b77b2-2f0b-4f92-8c6d-10848691eb6f"
      },
      "source": [
        "DS1_test.shape"
      ],
      "execution_count": null,
      "outputs": [
        {
          "output_type": "execute_result",
          "data": {
            "text/plain": [
              "(800, 20)"
            ]
          },
          "metadata": {},
          "execution_count": 161
        }
      ]
    },
    {
      "cell_type": "code",
      "metadata": {
        "id": "fz_y6FbURmil"
      },
      "source": [
        "P_c1 = np.where(P_c1 > 0.5, 1, P_c1)\n",
        "P_c1 = np.where(P_c1 < 0.5, -1, P_c1)\n"
      ],
      "execution_count": null,
      "outputs": []
    },
    {
      "cell_type": "code",
      "metadata": {
        "id": "XLHRkNpFS7L8"
      },
      "source": [
        "DS1_test_class=np.transpose(np.concatenate((DS1_c1_test,DS1_c2_test), axis=0)[:,-1:])[0]"
      ],
      "execution_count": null,
      "outputs": []
    },
    {
      "cell_type": "code",
      "metadata": {
        "colab": {
          "base_uri": "https://localhost:8080/"
        },
        "id": "MEuNs3Ihf8C-",
        "outputId": "a4501e70-7b74-4bfc-c65f-52bf0ea3a72f"
      },
      "source": [
        "TP_neg=np.sum((P_c1==-1) & (DS1_test_class== -1))\n",
        "TN_neg=np.sum((P_c1!=-1) & (DS1_test_class!= -1))\n",
        "FP_neg=np.sum((P_c1==-1) & (DS1_test_class!= -1))\n",
        "FN_neg=np.sum((P_c1!=-1) & (DS1_test_class== -1))\n",
        "\n",
        "TP_pos=np.sum((P_c1==1) & (DS1_test_class== 1))\n",
        "TN_pos=np.sum((P_c1!=1) & (DS1_test_class!= 1))\n",
        "FP_pos=np.sum((P_c1==1) & (DS1_test_class!= 1))\n",
        "FN_pos=np.sum((P_c1!=1) & (DS1_test_class== 1))\n",
        "\n",
        "Accuracy_pos=(TP_pos+TN_pos)/(TP_pos+TN_pos+FP_pos+FN_pos)\n",
        "\n",
        "Accuracy_neg=(TP_neg+TN_neg)/(TP_neg+TN_neg+FP_neg+FN_neg)\n",
        "\n",
        "\n",
        "print ('True Positive of positive class:',TP_pos)\n",
        "# print ('True Positive of both classes:',(np.sum(DS1_test_class == P_c1)))\n",
        "print ('True Negative of positive class:',TN_pos)\n",
        "print ('False Positive of positive class:',FP_pos)\n",
        "print ('False Negative of positive class:',FN_pos)\n",
        "print ('True Positive of negative class:',TP_neg)\n",
        "print ('True Negative of negative class:',TN_neg)\n",
        "print ('False Positive of negative class:',FP_neg)\n",
        "print ('False Negative of negative class:',FN_neg)\n",
        "\n",
        "print('Accuracy of Negative class:',Accuracy_neg)\n",
        "\n",
        "print('Accuracy of Positive class:',Accuracy_pos)\n"
      ],
      "execution_count": null,
      "outputs": [
        {
          "output_type": "stream",
          "name": "stdout",
          "text": [
            "True Positive of positive class: 369\n",
            "True Negative of positive class: 386\n",
            "False Positive of positive class: 14\n",
            "False Negative of positive class: 31\n",
            "True Positive of negative class: 386\n",
            "True Negative of negative class: 369\n",
            "False Positive of negative class: 31\n",
            "False Negative of negative class: 14\n",
            "Accuracy of Negative class: 0.94375\n",
            "Accuracy of Positive class: 0.94375\n"
          ]
        }
      ]
    },
    {
      "cell_type": "markdown",
      "metadata": {
        "id": "zEhpPb0jw81G"
      },
      "source": [
        "#1.3"
      ]
    },
    {
      "cell_type": "code",
      "metadata": {
        "id": "utvzrj_HmKM0"
      },
      "source": [
        "import tqdm\n",
        "from numba import jit, prange, objmode\n",
        "\n",
        "@jit(nopython=True)\n",
        "def euclidien_dist(vec1,train_set):\n",
        "    dist_list=[]\n",
        "    for i in range(len(train_set)):\n",
        "      dist = np.linalg.norm(vec1[0]-train_set[i:i+1,:][0])\n",
        "      dist_list.append(dist)\n",
        "    return (dist_list)"
      ],
      "execution_count": null,
      "outputs": []
    },
    {
      "cell_type": "code",
      "metadata": {
        "id": "0-UXihOh1MDI"
      },
      "source": [
        "def K_NN(vec1,train_set,k):\n",
        "  dist_list=np.array(euclidien_dist(vec1,train_set[:,:-1]))\n",
        "  k_neighbors_index=np.argsort(dist_list, axis=0)[:k]\n",
        "  c=np.mean(train_set[k_neighbors_index][:,-1:])\n",
        "  if c>0:\n",
        "    return 1\n",
        "  if c<=0:\n",
        "    return -1\n",
        "  "
      ],
      "execution_count": null,
      "outputs": []
    },
    {
      "cell_type": "code",
      "metadata": {
        "id": "PAzILV3K3jGc"
      },
      "source": [
        "DS1_train_knn=np.concatenate((DS1_c1_tr,DS1_c2_tr), axis=0)\n",
        "DS1_valid_knn=np.concatenate((DS1_c1_val,DS1_c2_val), axis=0)\n",
        "DS1_valid_knn_class=np.transpose((np.concatenate((DS1_c1_val,DS1_c2_val), axis=0)[:,-1:]))[0]\n",
        "DS1_test_knn=np.concatenate((DS1_c1_test,DS1_c2_test), axis=0)\n",
        "DS1_test_knn_class=np.transpose((np.concatenate((DS1_c1_test,DS1_c2_test), axis=0)[:,-1:]))[0]\n",
        "# DS1_train_knn_total=np.concatenate((DS1_train_knn,DS1_valid_knn), axis=0)"
      ],
      "execution_count": null,
      "outputs": []
    },
    {
      "cell_type": "code",
      "metadata": {
        "colab": {
          "base_uri": "https://localhost:8080/"
        },
        "id": "a9-zUyYG40pI",
        "outputId": "289e2e23-5ae3-4ac8-bb3f-96df5b52aff2"
      },
      "source": [
        "import tqdm\n",
        "classing={}\n",
        "\n",
        "# metric_neg={'TP':0,'TN':0,'FP':0,'FN':0}\n",
        "for k in tqdm.tqdm(range(1,50)):\n",
        "  metric_pos={'TP':0,'TN':0,'FP':0,'FN':0}\n",
        "  c_list=[]\n",
        "  for j in range(len(DS1_valid_knn)):\n",
        "    # dist_list=euclidien_dist(DS1_valid_knn[j:j+1,:],DS1_train_knn[:,:-1])\n",
        "    c=K_NN(DS1_valid_knn[j:j+1,:-1],DS1_train_knn,k)\n",
        "    c_list.append(c)\n",
        "    if c==DS1_valid_knn_class[j]==1:\n",
        "      metric_pos['TP']+=1\n",
        "    elif c!=DS1_valid_knn_class[j]==1:\n",
        "      metric_pos['FN']+=1\n",
        "    elif DS1_valid_knn_class[j]!=c==1:\n",
        "      metric_pos['FP']+=1\n",
        "    elif c==DS1_valid_knn_class[j]!=1:\n",
        "      metric_pos['TN']+=1\n",
        "    \n",
        "  classing[k]=metric_pos"
      ],
      "execution_count": null,
      "outputs": [
        {
          "output_type": "stream",
          "name": "stderr",
          "text": [
            "100%|██████████| 49/49 [00:55<00:00,  1.12s/it]\n"
          ]
        }
      ]
    },
    {
      "cell_type": "code",
      "metadata": {
        "colab": {
          "base_uri": "https://localhost:8080/"
        },
        "id": "XUdhlujCv8bv",
        "outputId": "cdfa4eb8-75e8-47eb-ddb5-74500b77732c"
      },
      "source": [
        "classing"
      ],
      "execution_count": null,
      "outputs": [
        {
          "output_type": "execute_result",
          "data": {
            "text/plain": [
              "{1: {'FN': 198, 'FP': 185, 'TN': 215, 'TP': 202},\n",
              " 2: {'FN': 295, 'FP': 87, 'TN': 313, 'TP': 105},\n",
              " 3: {'FN': 192, 'FP': 186, 'TN': 214, 'TP': 208},\n",
              " 4: {'FN': 263, 'FP': 118, 'TN': 282, 'TP': 137},\n",
              " 5: {'FN': 177, 'FP': 192, 'TN': 208, 'TP': 223},\n",
              " 6: {'FN': 236, 'FP': 129, 'TN': 271, 'TP': 164},\n",
              " 7: {'FN': 185, 'FP': 183, 'TN': 217, 'TP': 215},\n",
              " 8: {'FN': 239, 'FP': 137, 'TN': 263, 'TP': 161},\n",
              " 9: {'FN': 177, 'FP': 191, 'TN': 209, 'TP': 223},\n",
              " 10: {'FN': 233, 'FP': 152, 'TN': 248, 'TP': 167},\n",
              " 11: {'FN': 177, 'FP': 188, 'TN': 212, 'TP': 223},\n",
              " 12: {'FN': 223, 'FP': 157, 'TN': 243, 'TP': 177},\n",
              " 13: {'FN': 172, 'FP': 196, 'TN': 204, 'TP': 228},\n",
              " 14: {'FN': 206, 'FP': 159, 'TN': 241, 'TP': 194},\n",
              " 15: {'FN': 171, 'FP': 198, 'TN': 202, 'TP': 229},\n",
              " 16: {'FN': 206, 'FP': 153, 'TN': 247, 'TP': 194},\n",
              " 17: {'FN': 174, 'FP': 191, 'TN': 209, 'TP': 226},\n",
              " 18: {'FN': 207, 'FP': 160, 'TN': 240, 'TP': 193},\n",
              " 19: {'FN': 174, 'FP': 193, 'TN': 207, 'TP': 226},\n",
              " 20: {'FN': 206, 'FP': 159, 'TN': 241, 'TP': 194},\n",
              " 21: {'FN': 163, 'FP': 191, 'TN': 209, 'TP': 237},\n",
              " 22: {'FN': 191, 'FP': 154, 'TN': 246, 'TP': 209},\n",
              " 23: {'FN': 163, 'FP': 185, 'TN': 215, 'TP': 237},\n",
              " 24: {'FN': 195, 'FP': 155, 'TN': 245, 'TP': 205},\n",
              " 25: {'FN': 162, 'FP': 182, 'TN': 218, 'TP': 238},\n",
              " 26: {'FN': 187, 'FP': 165, 'TN': 235, 'TP': 213},\n",
              " 27: {'FN': 162, 'FP': 186, 'TN': 214, 'TP': 238},\n",
              " 28: {'FN': 187, 'FP': 163, 'TN': 237, 'TP': 213},\n",
              " 29: {'FN': 158, 'FP': 183, 'TN': 217, 'TP': 242},\n",
              " 30: {'FN': 181, 'FP': 164, 'TN': 236, 'TP': 219},\n",
              " 31: {'FN': 161, 'FP': 190, 'TN': 210, 'TP': 239},\n",
              " 32: {'FN': 178, 'FP': 164, 'TN': 236, 'TP': 222},\n",
              " 33: {'FN': 161, 'FP': 187, 'TN': 213, 'TP': 239},\n",
              " 34: {'FN': 187, 'FP': 170, 'TN': 230, 'TP': 213},\n",
              " 35: {'FN': 163, 'FP': 189, 'TN': 211, 'TP': 237},\n",
              " 36: {'FN': 182, 'FP': 171, 'TN': 229, 'TP': 218},\n",
              " 37: {'FN': 158, 'FP': 189, 'TN': 211, 'TP': 242},\n",
              " 38: {'FN': 181, 'FP': 165, 'TN': 235, 'TP': 219},\n",
              " 39: {'FN': 164, 'FP': 185, 'TN': 215, 'TP': 236},\n",
              " 40: {'FN': 186, 'FP': 161, 'TN': 239, 'TP': 214},\n",
              " 41: {'FN': 168, 'FP': 181, 'TN': 219, 'TP': 232},\n",
              " 42: {'FN': 188, 'FP': 164, 'TN': 236, 'TP': 212},\n",
              " 43: {'FN': 170, 'FP': 182, 'TN': 218, 'TP': 230},\n",
              " 44: {'FN': 183, 'FP': 164, 'TN': 236, 'TP': 217},\n",
              " 45: {'FN': 167, 'FP': 181, 'TN': 219, 'TP': 233},\n",
              " 46: {'FN': 186, 'FP': 167, 'TN': 233, 'TP': 214},\n",
              " 47: {'FN': 176, 'FP': 182, 'TN': 218, 'TP': 224},\n",
              " 48: {'FN': 182, 'FP': 169, 'TN': 231, 'TP': 218},\n",
              " 49: {'FN': 165, 'FP': 184, 'TN': 216, 'TP': 235}}"
            ]
          },
          "metadata": {},
          "execution_count": 169
        }
      ]
    },
    {
      "cell_type": "code",
      "metadata": {
        "colab": {
          "base_uri": "https://localhost:8080/"
        },
        "id": "T8rd7ccuiQr5",
        "outputId": "c6f12588-f605-41f7-9bbf-7b7b53673844"
      },
      "source": [
        "accuracy={}\n",
        "precision={}\n",
        "recall={}\n",
        "for k,c in classing.items():\n",
        "  accuracy[k]=(c['TP']+c['TN'])/(c['TP']+c['TN']+c['FP']+c['FN'])\n",
        "  # precision[k]=(c['TP'])/(c['TP']+c['FP'])\n",
        "  # recall[k]=(c['TP'])/(c['TP']+c['FN'])\n",
        "\n",
        "\n",
        "print('Maximum accuracy obtained at K=',max(accuracy, key=accuracy.get))\n",
        "# print('Maximum precision obtained at K=',max(precision, key=precision.get))\n",
        "# print('Maximum recall obtained at K=',max(recall, key=recall.get))\n"
      ],
      "execution_count": null,
      "outputs": [
        {
          "output_type": "stream",
          "name": "stdout",
          "text": [
            "Maximum accuracy obtained at K= 29\n"
          ]
        }
      ]
    },
    {
      "cell_type": "code",
      "metadata": {
        "colab": {
          "base_uri": "https://localhost:8080/"
        },
        "id": "CCIpHDxrWJx_",
        "outputId": "bf1beb79-ae96-4035-c2e3-733f33729e27"
      },
      "source": [
        "accuracy"
      ],
      "execution_count": null,
      "outputs": [
        {
          "output_type": "execute_result",
          "data": {
            "text/plain": [
              "{1: 0.52125,\n",
              " 2: 0.5225,\n",
              " 3: 0.5275,\n",
              " 4: 0.52375,\n",
              " 5: 0.53875,\n",
              " 6: 0.54375,\n",
              " 7: 0.54,\n",
              " 8: 0.53,\n",
              " 9: 0.54,\n",
              " 10: 0.51875,\n",
              " 11: 0.54375,\n",
              " 12: 0.525,\n",
              " 13: 0.54,\n",
              " 14: 0.54375,\n",
              " 15: 0.53875,\n",
              " 16: 0.55125,\n",
              " 17: 0.54375,\n",
              " 18: 0.54125,\n",
              " 19: 0.54125,\n",
              " 20: 0.54375,\n",
              " 21: 0.5575,\n",
              " 22: 0.56875,\n",
              " 23: 0.565,\n",
              " 24: 0.5625,\n",
              " 25: 0.57,\n",
              " 26: 0.56,\n",
              " 27: 0.565,\n",
              " 28: 0.5625,\n",
              " 29: 0.57375,\n",
              " 30: 0.56875,\n",
              " 31: 0.56125,\n",
              " 32: 0.5725,\n",
              " 33: 0.565,\n",
              " 34: 0.55375,\n",
              " 35: 0.56,\n",
              " 36: 0.55875,\n",
              " 37: 0.56625,\n",
              " 38: 0.5675,\n",
              " 39: 0.56375,\n",
              " 40: 0.56625,\n",
              " 41: 0.56375,\n",
              " 42: 0.56,\n",
              " 43: 0.56,\n",
              " 44: 0.56625,\n",
              " 45: 0.565,\n",
              " 46: 0.55875,\n",
              " 47: 0.5525,\n",
              " 48: 0.56125,\n",
              " 49: 0.56375}"
            ]
          },
          "metadata": {},
          "execution_count": 171
        }
      ]
    },
    {
      "cell_type": "code",
      "metadata": {
        "colab": {
          "base_uri": "https://localhost:8080/"
        },
        "id": "R7v8lk6A-wBM",
        "outputId": "b6d586e2-77d2-420a-f5d5-9ea3fa5e2c29"
      },
      "source": [
        "max(accuracy, key=accuracy.get)"
      ],
      "execution_count": null,
      "outputs": [
        {
          "output_type": "execute_result",
          "data": {
            "text/plain": [
              "29"
            ]
          },
          "metadata": {},
          "execution_count": 173
        }
      ]
    },
    {
      "cell_type": "code",
      "metadata": {
        "id": "8rACSWGhrheg"
      },
      "source": [
        "k=max(accuracy, key=accuracy.get)\n",
        "metric_pos_test={'TP':0,'TN':0,'FP':0,'FN':0}\n",
        "for j in range(len(DS1_test_knn)):\n",
        "  # dist_list=euclidien_dist(DS1_valid_knn[j:j+1,:],DS1_train_knn[:,:-1])\n",
        "  c=K_NN(DS1_test_knn[j:j+1,:-1],DS1_train_knn,k)\n",
        "  if c==DS1_test_knn_class[j]==1:\n",
        "    metric_pos_test['TP']+=1\n",
        "  elif c!=DS1_test_knn_class[j]==1:\n",
        "    metric_pos_test['FN']+=1\n",
        "  elif DS1_test_knn_class[j]!=c==1:\n",
        "    metric_pos_test['FP']+=1\n",
        "  elif c==DS1_test_knn_class[j]!=1:\n",
        "    metric_pos_test['TN']+=1"
      ],
      "execution_count": null,
      "outputs": []
    },
    {
      "cell_type": "code",
      "metadata": {
        "id": "5GLNzD9pynI4"
      },
      "source": [
        "accuracy_test=(metric_pos_test['TP']+metric_pos_test['TN'])/(metric_pos_test['TP']+metric_pos_test['TN']+metric_pos_test['FP']+metric_pos_test['FN'])\n",
        "# precision_test=(metric_pos_test['TP'])/(metric_pos_test['TP']+metric_pos_test['FP'])\n",
        "# recall_test=(metric_pos_test['TP'])/(metric_pos_test['TP']+metric_pos_test['FN'])"
      ],
      "execution_count": null,
      "outputs": []
    },
    {
      "cell_type": "code",
      "metadata": {
        "colab": {
          "base_uri": "https://localhost:8080/"
        },
        "id": "Mx1e_5RwECrv",
        "outputId": "55417ceb-47bd-48ef-ab3f-7a962d712f43"
      },
      "source": [
        "accuracy_test"
      ],
      "execution_count": null,
      "outputs": [
        {
          "output_type": "execute_result",
          "data": {
            "text/plain": [
              "0.57375"
            ]
          },
          "metadata": {},
          "execution_count": 189
        }
      ]
    },
    {
      "cell_type": "code",
      "metadata": {
        "colab": {
          "base_uri": "https://localhost:8080/"
        },
        "id": "YY4sMeokEFwV",
        "outputId": "aa4e8233-ab2a-465b-f0e9-991b638b1330"
      },
      "source": [
        "metric_pos_test"
      ],
      "execution_count": null,
      "outputs": [
        {
          "output_type": "execute_result",
          "data": {
            "text/plain": [
              "{'FN': 163, 'FP': 178, 'TN': 222, 'TP': 237}"
            ]
          },
          "metadata": {},
          "execution_count": 190
        }
      ]
    },
    {
      "cell_type": "markdown",
      "metadata": {
        "id": "7B_bSmHBLyDA"
      },
      "source": [
        "#1.4"
      ]
    },
    {
      "cell_type": "code",
      "metadata": {
        "id": "4N9ebGD5LcZd"
      },
      "source": [
        "DS2_cov1=pd.read_csv('/content/drive/MyDrive/Automn 2021/Machin Learning/Assignment2/hwk2_datasets (1)/DS2_Cov1.txt',delimiter = \",\", header=None)\n",
        "DS2_cov2=pd.read_csv('/content/drive/MyDrive/Automn 2021/Machin Learning/Assignment2/hwk2_datasets (1)/DS2_Cov2.txt',delimiter = \",\", header=None)\n",
        "DS2_cov3=pd.read_csv('/content/drive/MyDrive/Automn 2021/Machin Learning/Assignment2/hwk2_datasets (1)/DS2_Cov3.txt',delimiter = \",\", header=None)\n",
        "DS2_c1_m1=pd.read_csv('/content/drive/MyDrive/Automn 2021/Machin Learning/Assignment2/hwk2_datasets (1)/DS2_c1_m1.txt',delimiter = \",\", header=None)\n",
        "DS2_c1_m2=pd.read_csv('/content/drive/MyDrive/Automn 2021/Machin Learning/Assignment2/hwk2_datasets (1)/DS2_c1_m2.txt',delimiter = \",\", header=None)\n",
        "DS2_c1_m3=pd.read_csv('/content/drive/MyDrive/Automn 2021/Machin Learning/Assignment2/hwk2_datasets (1)/DS2_c1_m3.txt',delimiter = \",\", header=None)\n",
        "DS2_c2_m1=pd.read_csv('/content/drive/MyDrive/Automn 2021/Machin Learning/Assignment2/hwk2_datasets (1)/DS2_c2_m1.txt',delimiter = \",\", header=None)\n",
        "DS2_c2_m2=pd.read_csv('/content/drive/MyDrive/Automn 2021/Machin Learning/Assignment2/hwk2_datasets (1)/DS2_c2_m2.txt',delimiter = \",\", header=None)\n",
        "DS2_c2_m3=pd.read_csv('/content/drive/MyDrive/Automn 2021/Machin Learning/Assignment2/hwk2_datasets (1)/DS2_c2_m3.txt',delimiter = \",\", header=None)\n",
        "#because of an extra \",\" at the end of each row there is NaN column at the parameters df\n",
        "DS2_cov1=DS2_cov1.drop([20], axis=1)\n",
        "DS2_cov2=DS2_cov2.drop([20], axis=1)\n",
        "DS2_cov3=DS2_cov3.drop([20], axis=1)\n",
        "\n",
        "DS2_c1_m1=DS2_c1_m1.drop([20], axis=1)\n",
        "DS2_c1_m2=DS2_c1_m2.drop([20], axis=1)\n",
        "DS2_c1_m3=DS2_c1_m3.drop([20], axis=1)\n",
        "DS2_c2_m1=DS2_c2_m1.drop([20], axis=1)\n",
        "DS2_c2_m2=DS2_c2_m2.drop([20], axis=1)\n",
        "DS2_c2_m3=DS2_c2_m3.drop([20], axis=1)\n",
        "\n",
        "DS2_c1_m1=np.transpose((DS2_c1_m1.to_numpy())[0])\n",
        "DS2_c1_m2=np.transpose((DS2_c1_m2.to_numpy())[0])\n",
        "DS2_c1_m3=np.transpose((DS2_c1_m3.to_numpy())[0])\n",
        "DS2_c2_m1=np.transpose((DS2_c2_m1.to_numpy())[0])\n",
        "DS2_c2_m2=np.transpose((DS2_c2_m2.to_numpy())[0])\n",
        "DS2_c2_m3=np.transpose((DS2_c2_m3.to_numpy())[0])\n",
        "\n"
      ],
      "execution_count": null,
      "outputs": []
    },
    {
      "cell_type": "code",
      "metadata": {
        "id": "qFC6DGbqNt0h"
      },
      "source": [
        "n=2000\n",
        "np.random.seed(0)\n",
        "\n",
        "DS2__c1_cov1_m1=np.concatenate((np.round(np.random.multivariate_normal(DS2_c1_m1,DS2_cov1,int(n*0.1)),2),np.ones((int(n*0.1),1), dtype=int)), axis=1)\n",
        "DS2__c1_cov2_m2=np.concatenate((np.round(np.random.multivariate_normal(DS2_c1_m2,DS2_cov2,int(n*0.42)),2),np.ones((int(n*0.42),1), dtype=int)), axis=1)\n",
        "DS2__c1_cov3_m3=np.concatenate((np.round(np.random.multivariate_normal(DS2_c1_m3,DS2_cov3,int(n*0.48)),2),np.ones((int(n*0.48),1), dtype=int)), axis=1)\n",
        "\n",
        "DS2__c2_cov1_m1=np.concatenate((np.round(np.random.multivariate_normal(DS2_c2_m1,DS2_cov1,int(n*0.1)),2),np.zeros((int(n*0.1),1), dtype=int)), axis=1)\n",
        "DS2__c2_cov2_m2=np.concatenate((np.round(np.random.multivariate_normal(DS2_c2_m2,DS2_cov2,int(n*0.42)),2),np.zeros((int(n*0.42),1), dtype=int)), axis=1)\n",
        "DS2__c2_cov3_m3=np.concatenate((np.round(np.random.multivariate_normal(DS2_c2_m3,DS2_cov3,int(n*0.48)),2),np.zeros((int(n*0.48),1), dtype=int)), axis=1)\n",
        "\n",
        "DS2__c2_cov1_m1[:,-1:]=-1\n",
        "DS2__c2_cov2_m2[:,-1:]=-1\n",
        "DS2__c2_cov3_m3[:,-1:]=-1"
      ],
      "execution_count": null,
      "outputs": []
    },
    {
      "cell_type": "code",
      "metadata": {
        "id": "YDJNY7FqUdNC"
      },
      "source": [
        "DS2_c1=np.concatenate((DS2__c1_cov1_m1,DS2__c1_cov2_m2,DS2__c1_cov3_m3), axis=0)\n",
        "DS2_c2=np.concatenate((DS2__c2_cov1_m1,DS2__c2_cov2_m2,DS2__c2_cov3_m3), axis=0)\n",
        "\n",
        "DS2=np.concatenate((DS2_c1,DS2_c2), axis=0)\n",
        "DS2_df=pd.DataFrame(data=DS2)\n",
        "np.savetxt('/content/drive/MyDrive/Automn 2021/Machin Learning/Assignment2/Assignment2_2078921_1_4.txt', DS2_df, delimiter=',', fmt='%10.2f')"
      ],
      "execution_count": null,
      "outputs": []
    },
    {
      "cell_type": "code",
      "metadata": {
        "id": "B7DjmYEx7KiP"
      },
      "source": [
        "np.random.shuffle(DS2_c1)\n",
        "np.random.shuffle(DS2_c2)\n",
        "DS2_c1_tr=DS2_c1[:int(len(DS2_c1)*0.6),:]\n",
        "DS2_c2_tr=DS2_c2[:int(len(DS2_c2)*0.6),:]\n",
        "DS2_c1_val=DS2_c1[int(len(DS2_c1)*0.6):int(len(DS2_c1)*0.8),:]\n",
        "DS2_c2_val=DS2_c2[int(len(DS2_c2)*0.6):int(len(DS2_c2)*0.8),:]\n",
        "DS2_c1_test=DS2_c1[int(len(DS2_c1)*0.8):,:]\n",
        "DS2_c2_test=DS2_c2[int(len(DS2_c2)*0.8):,:]"
      ],
      "execution_count": null,
      "outputs": []
    },
    {
      "cell_type": "markdown",
      "metadata": {
        "id": "kZa1unzFWIlp"
      },
      "source": [
        "#1.5"
      ]
    },
    {
      "cell_type": "markdown",
      "metadata": {
        "id": "e6rmcna_9397"
      },
      "source": [
        "**1.5.1**"
      ]
    },
    {
      "cell_type": "code",
      "metadata": {
        "id": "7MM5qfSQWLda"
      },
      "source": [
        "DS2_train=np.concatenate((DS2_c1_tr,DS2_c2_tr), axis=0)[:,:-1]\n",
        "DS2_valid=np.concatenate((DS2_c1_val,DS2_c2_val), axis=0)[:,:-1]\n",
        "\n",
        "cov_DS2_train=np.cov(np.transpose(DS2_train))\n",
        "# DS2_c1_tr_gda=np.concatenate((DS2_c1_tr,DS2_c1_val), axis=0)\n",
        "# DS2_c2_tr_gda=np.concatenate((DS2_c2_tr,DS2_c2_val), axis=0)\n",
        "\n",
        "mu_DS2_c1_tr=np.mean(DS2_c1_tr[:,:-1], axis=0)\n",
        "mu_DS2_c2_tr=np.mean(DS2_c2_tr[:,:-1], axis=0)"
      ],
      "execution_count": null,
      "outputs": []
    },
    {
      "cell_type": "code",
      "metadata": {
        "colab": {
          "base_uri": "https://localhost:8080/"
        },
        "id": "0B6OOAYm1yNQ",
        "outputId": "44ddfdbb-ca85-4a17-8869-e779f71c482a"
      },
      "source": [
        "print (f'mean of class positive {mu_DS2_c1_tr}\\n mean of class negative {mu_DS2_c2_tr} \\n covariance matrix {cov_DS2_train}')"
      ],
      "execution_count": null,
      "outputs": [
        {
          "output_type": "stream",
          "name": "stdout",
          "text": [
            "mean of class positive [1.13123333 1.0978     1.056425   1.067775   1.02171667 1.12316667\n",
            " 1.10035833 1.06671667 1.08844167 1.13498333 1.0698     1.049375\n",
            " 1.15141667 1.056475   1.08369167 1.14214167 1.07735833 1.08685833\n",
            " 1.1361     1.08221667]\n",
            " mean of class negative [1.12816667 1.182675   1.24253333 1.24168333 1.16840833 1.2108\n",
            " 1.24554167 1.20694167 1.2712     1.20033333 1.182175   1.166225\n",
            " 1.18061667 1.13439167 1.1882     1.166775   1.1222     1.1846\n",
            " 1.20015    1.10619167] \n",
            " covariance matrix [[7.71925035 5.34233192 4.53776354 4.96616169 4.24807017 5.46522319\n",
            "  5.74449968 5.46528859 4.47450841 5.11264661 5.43730951 4.90448867\n",
            "  4.84698697 5.99910997 5.19650037 5.60360376 5.32080702 5.40270401\n",
            "  5.44776672 5.72276316]\n",
            " [5.34233192 7.31955197 4.84291613 5.26725219 5.04595424 5.94338596\n",
            "  6.34058025 5.29453539 4.48809166 4.91666604 4.71937669 4.92726201\n",
            "  4.84849799 6.07018654 5.6162597  5.90761386 5.21844069 5.0431557\n",
            "  6.07747031 5.6493945 ]\n",
            " [4.53776354 4.84291613 6.62607822 5.08650421 4.73151848 4.62126358\n",
            "  5.80544864 4.37315112 4.2724824  4.67943425 4.61923955 4.89353541\n",
            "  4.89753844 5.90498462 5.17850798 4.80554667 5.16169026 4.24392804\n",
            "  5.68355059 5.54855696]\n",
            " [4.96616169 5.26725219 5.08650421 6.60811556 4.14897246 5.49043307\n",
            "  6.13077337 5.24451804 4.67462869 5.29339999 4.87319818 4.81004609\n",
            "  4.81220763 5.41170268 5.17644919 5.2892724  5.10121705 5.10745776\n",
            "  5.78114739 5.6301546 ]\n",
            " [4.24807017 5.04595424 4.73151848 4.14897246 5.66186827 4.56093495\n",
            "  4.94910794 4.32380059 3.47628994 3.93243833 3.72720469 4.105178\n",
            "  4.11250054 4.78216981 5.1678137  4.82221619 4.19869487 4.4105095\n",
            "  5.22043138 4.83923169]\n",
            " [5.46522319 5.94338596 4.62126358 5.49043307 4.56093495 7.63464492\n",
            "  6.43943416 5.07388459 5.34474089 5.29956017 4.5369991  4.77406543\n",
            "  5.12094863 6.26484437 5.53456092 5.7111706  5.42133331 5.20198136\n",
            "  6.32074074 5.91536333]\n",
            " [5.74449968 6.34058025 5.80544864 6.13077337 4.94910794 6.43943416\n",
            "  8.06426291 5.67593158 5.51550249 5.80461792 5.67359071 5.57299899\n",
            "  5.4633905  6.7601011  5.82266353 6.11078147 5.68887222 5.48375566\n",
            "  6.94956577 6.1452555 ]\n",
            " [5.46528859 5.29453539 4.37315112 5.24451804 4.32380059 5.07388459\n",
            "  5.67593158 6.19105426 4.43761148 4.80062179 4.41843663 4.5039182\n",
            "  4.08584977 5.28963137 5.03576463 5.10020351 4.69684761 5.47014544\n",
            "  5.28941414 5.21519879]\n",
            " [4.47450841 4.48809166 4.2724824  4.67462869 3.47628994 5.34474089\n",
            "  5.51550249 4.43761148 5.68888696 4.43308399 4.0323047  4.11297072\n",
            "  4.08159758 4.92421198 4.54367426 4.29023977 4.4767747  4.44321441\n",
            "  4.64169795 4.55762852]\n",
            " [5.11264661 4.91666604 4.67943425 5.29339999 3.93243833 5.29956017\n",
            "  5.80461792 4.80062179 4.43308399 6.44674608 4.53639231 4.47513111\n",
            "  4.66152572 5.52331706 4.91613711 4.87348856 4.87058439 4.35999712\n",
            "  5.90908152 5.12313949]\n",
            " [5.43730951 4.71937669 4.61923955 4.87319818 3.72720469 4.5369991\n",
            "  5.67359071 4.41843663 4.0323047  4.53639231 5.96312391 4.9186529\n",
            "  4.46976579 4.95754736 4.82856518 4.65289305 4.65896927 4.53322879\n",
            "  5.51028214 5.12533167]\n",
            " [4.90448867 4.92726201 4.89353541 4.81004609 4.105178   4.77406543\n",
            "  5.57299899 4.5039182  4.11297072 4.47513111 4.9186529  6.27687336\n",
            "  4.40906593 5.26127878 5.22950738 4.97230656 5.01975716 4.78749756\n",
            "  5.53245636 5.05144381]\n",
            " [4.84698697 4.84849799 4.89753844 4.81220763 4.11250054 5.12094863\n",
            "  5.4633905  4.08584977 4.08159758 4.66152572 4.46976579 4.40906593\n",
            "  5.96888433 5.33841711 5.26727976 5.1006409  4.97883334 4.37270745\n",
            "  5.62225184 5.10977236]\n",
            " [5.99910997 6.07018654 5.90498462 5.41170268 4.78216981 6.26484437\n",
            "  6.7601011  5.28963137 4.92421198 5.52331706 4.95754736 5.26127878\n",
            "  5.33841711 8.04875246 5.82007227 5.64617998 6.0513122  4.47709987\n",
            "  6.2090332  6.10178982]\n",
            " [5.19650037 5.6162597  5.17850798 5.17644919 5.1678137  5.53456092\n",
            "  5.82266353 5.03576463 4.54367426 4.91613711 4.82856518 5.22950738\n",
            "  5.26727976 5.82007227 7.06659885 5.33289503 5.2554029  5.14512582\n",
            "  5.84350607 6.01519333]\n",
            " [5.60360376 5.90761386 4.80554667 5.2892724  4.82221619 5.7111706\n",
            "  6.11078147 5.10020351 4.29023977 4.87348856 4.65289305 4.97230656\n",
            "  5.1006409  5.64617998 5.33289503 6.54872709 5.16758773 5.46451484\n",
            "  6.04478027 5.64650292]\n",
            " [5.32080702 5.21844069 5.16169026 5.10121705 4.19869487 5.42133331\n",
            "  5.68887222 4.69684761 4.4767747  4.87058439 4.65896927 5.01975716\n",
            "  4.97883334 6.0513122  5.2554029  5.16758773 6.49496973 4.47316146\n",
            "  5.56385511 5.92948951]\n",
            " [5.40270401 5.0431557  4.24392804 5.10745776 4.4105095  5.20198136\n",
            "  5.48375566 5.47014544 4.44321441 4.35999712 4.53322879 4.78749756\n",
            "  4.37270745 4.47709987 5.14512582 5.46451484 4.47316146 6.75362031\n",
            "  5.36768132 5.21762397]\n",
            " [5.44776672 6.07747031 5.68355059 5.78114739 5.22043138 6.32074074\n",
            "  6.94956577 5.28941414 4.64169795 5.90908152 5.51028214 5.53245636\n",
            "  5.62225184 6.2090332  5.84350607 6.04478027 5.56385511 5.36768132\n",
            "  8.12070386 6.26810972]\n",
            " [5.72276316 5.6493945  5.54855696 5.6301546  4.83923169 5.91536333\n",
            "  6.1452555  5.21519879 4.55762852 5.12313949 5.12533167 5.05144381\n",
            "  5.10977236 6.10178982 6.01519333 5.64650292 5.92948951 5.21762397\n",
            "  6.26810972 7.71214593]]\n"
          ]
        }
      ]
    },
    {
      "cell_type": "code",
      "metadata": {
        "id": "GysLh0LQvsO0"
      },
      "source": [
        "w1=np.dot(np.linalg.inv(cov_DS2_train),(mu_DS2_c1_tr-mu_DS2_c2_tr))\n",
        "w0=-0.5*(np.dot(np.transpose(mu_DS2_c1_tr),np.dot(np.linalg.inv(cov_DS2_train),mu_DS2_c1_tr))-np.dot(np.transpose(mu_DS2_c2_tr),np.dot(np.linalg.inv(cov_DS2_train),mu_DS2_c2_tr)))"
      ],
      "execution_count": null,
      "outputs": []
    },
    {
      "cell_type": "code",
      "metadata": {
        "colab": {
          "base_uri": "https://localhost:8080/"
        },
        "id": "dp5YltdRv5Ey",
        "outputId": "c1d01661-f55f-4393-ed6d-a3e74d14e9f7"
      },
      "source": [
        "print('w0= ',w0)\n",
        "print ('w1= ',np.transpose(w1))"
      ],
      "execution_count": null,
      "outputs": [
        {
          "output_type": "stream",
          "name": "stdout",
          "text": [
            "w0=  0.05097631008867168\n",
            "w1=  [ 0.03254021  0.00683846 -0.04711024 -0.045201   -0.05266801 -0.02760269\n",
            "  0.00511234 -0.04001346 -0.03564491  0.02019687 -0.04282399 -0.01064536\n",
            "  0.02369614  0.01432583  0.00638008  0.03678376  0.01788324  0.01822905\n",
            "  0.03154863  0.04424732]\n"
          ]
        }
      ]
    },
    {
      "cell_type": "code",
      "metadata": {
        "id": "XxCnz9obB8rC"
      },
      "source": [
        "P_c1_valid_ds2=sigmoid(w0+np.dot(DS2_valid,w1))"
      ],
      "execution_count": null,
      "outputs": []
    },
    {
      "cell_type": "code",
      "metadata": {
        "id": "eVYUvAkmCTSI"
      },
      "source": [
        "DS2_valid_class=np.transpose(np.concatenate((DS2_c1_val,DS2_c2_val), axis=0)[:,-1:])[0]"
      ],
      "execution_count": null,
      "outputs": []
    },
    {
      "cell_type": "code",
      "metadata": {
        "id": "GtavWmh4CmXj"
      },
      "source": [
        "P_c1_valid_ds2 = np.where(P_c1_valid_ds2 > 0.5, 1, P_c1_valid_ds2)\n",
        "P_c1_valid_ds2 = np.where(P_c1_valid_ds2 < 0.5, -1, P_c1_valid_ds2)"
      ],
      "execution_count": null,
      "outputs": []
    },
    {
      "cell_type": "code",
      "metadata": {
        "colab": {
          "base_uri": "https://localhost:8080/"
        },
        "id": "wnSuxQOyCl0x",
        "outputId": "d40b7202-0b33-44dc-c71f-4cdf1b987576"
      },
      "source": [
        "TP_neg_valid=np.sum((P_c1_valid_ds2==-1) & (DS2_valid_class== -1))\n",
        "TN_neg_valid=np.sum((P_c1_valid_ds2!=-1) & (DS2_valid_class!= -1))\n",
        "FP_neg_valid=np.sum((P_c1_valid_ds2==-1) & (DS2_valid_class!= -1))\n",
        "FN_neg_valid=np.sum((P_c1_valid_ds2!=-1) & (DS2_valid_class== -1))\n",
        "\n",
        "TP_pos_valid=np.sum((P_c1_valid_ds2==1) & (DS2_valid_class== 1))\n",
        "TN_pos_valid=np.sum((P_c1_valid_ds2!=1) & (DS2_valid_class!= 1))\n",
        "FP_pos_valid=np.sum((P_c1_valid_ds2==1) & (DS2_valid_class!= 1))\n",
        "FN_pos_valid=np.sum((P_c1_valid_ds2!=1) & (DS2_valid_class== 1))\n",
        "\n",
        "Accuracy_pos_valid=(TP_pos_valid+TN_pos_valid)/(TP_pos_valid+TN_pos_valid+FP_pos_valid+FN_pos_valid)\n",
        "\n",
        "Accuracy_neg_valid=(TP_neg_valid+TN_neg_valid)/(TP_neg_valid+TN_neg_valid+FP_neg_valid+FN_neg_valid)\n",
        "\n",
        "\n",
        "print ('True Positive of positive class:',TP_pos_valid)\n",
        "print ('True Negative of positive class:',TN_pos_valid)\n",
        "print ('False Positive of positive class:',FP_pos_valid)\n",
        "print ('False Negative of positive class:',FN_pos_valid)\n",
        "print ('True Positive of negative class:',TP_neg_valid)\n",
        "print ('True Negative of negative class:',TN_neg_valid)\n",
        "print ('False Positive of negative class:',FP_neg_valid)\n",
        "print ('False Negative of negative class:',FN_neg_valid)\n",
        "\n",
        "print('Accuracy of Negative class:',Accuracy_neg_valid)\n",
        "\n",
        "print('Accuracy of Positive class:',Accuracy_pos_valid)"
      ],
      "execution_count": null,
      "outputs": [
        {
          "output_type": "stream",
          "name": "stdout",
          "text": [
            "True Positive of positive class: 201\n",
            "True Negative of positive class: 203\n",
            "False Positive of positive class: 197\n",
            "False Negative of positive class: 199\n",
            "True Positive of negative class: 203\n",
            "True Negative of negative class: 201\n",
            "False Positive of negative class: 199\n",
            "False Negative of negative class: 197\n",
            "Accuracy of Negative class: 0.505\n",
            "Accuracy of Positive class: 0.505\n"
          ]
        }
      ]
    },
    {
      "cell_type": "code",
      "metadata": {
        "id": "uRf25keRClLr"
      },
      "source": [
        ""
      ],
      "execution_count": null,
      "outputs": []
    },
    {
      "cell_type": "code",
      "metadata": {
        "id": "VOvUHFjvwbI9"
      },
      "source": [
        "DS2_test=np.concatenate((DS2_c1_test,DS2_c2_test), axis=0)[:,:-1]\n",
        "P_c1_ds2=sigmoid(w0+np.dot(DS2_test,w1))"
      ],
      "execution_count": null,
      "outputs": []
    },
    {
      "cell_type": "code",
      "metadata": {
        "id": "CQ5Nsq7Swko7"
      },
      "source": [
        "P_c1_ds2 = np.where(P_c1_ds2 > 0.5, 1, P_c1_ds2)\n",
        "P_c1_ds2 = np.where(P_c1_ds2 < 0.5, -1, P_c1_ds2)"
      ],
      "execution_count": null,
      "outputs": []
    },
    {
      "cell_type": "code",
      "metadata": {
        "id": "aAiZTSMFwvCL"
      },
      "source": [
        "DS2_test_class=np.transpose(np.concatenate((DS2_c1_test,DS2_c2_test), axis=0)[:,-1:])[0]"
      ],
      "execution_count": null,
      "outputs": []
    },
    {
      "cell_type": "code",
      "metadata": {
        "colab": {
          "base_uri": "https://localhost:8080/"
        },
        "id": "91po_Qt9w0kF",
        "outputId": "d41b9e0b-df42-4f88-f70a-6143ee11a151"
      },
      "source": [
        "TP_neg=np.sum((P_c1_ds2==-1) & (DS1_test_class== -1))\n",
        "TN_neg=np.sum((P_c1_ds2!=-1) & (DS1_test_class!= -1))\n",
        "FP_neg=np.sum((P_c1_ds2==-1) & (DS1_test_class!= -1))\n",
        "FN_neg=np.sum((P_c1_ds2!=-1) & (DS1_test_class== -1))\n",
        "\n",
        "TP_pos_ds2=np.sum((P_c1_ds2==1) & (DS2_test_class== 1))\n",
        "TN_pos_ds2=np.sum((P_c1_ds2!=1) & (DS2_test_class!= 1))\n",
        "FP_pos_ds2=np.sum((P_c1_ds2==1) & (DS2_test_class!= 1))\n",
        "FN_pos_ds2=np.sum((P_c1_ds2!=1) & (DS2_test_class== 1))\n",
        "\n",
        "Accuracy_pos_ds2=(TP_pos_ds2+TN_pos_ds2)/(TP_pos_ds2+TN_pos_ds2+FP_pos_ds2+FN_pos_ds2)\n",
        "\n",
        "Accuracy_neg=(TP_neg+TN_neg)/(TP_neg+TN_neg+FP_neg+FN_neg)\n",
        "\n",
        "\n",
        "print ('True Positive of positive class:',TP_pos_ds2)\n",
        "# print ('True Positive of both classes:',(np.sum(DS1_test_class == P_c1)))\n",
        "print ('True Negative of positive class:',TN_pos_ds2)\n",
        "print ('False Positive of positive class:',FP_pos_ds2)\n",
        "print ('False Negative of positive class:',FN_pos_ds2)\n",
        "print ('True Positive of negative class:',TP_neg)\n",
        "print ('True Negative of negative class:',TN_neg)\n",
        "print ('False Positive of negative class:',FP_neg)\n",
        "print ('False Negative of negative class:',FN_neg)\n",
        "\n",
        "print('Accuracy of Negative class:',Accuracy_neg)\n",
        "\n",
        "print('Accuracy of Positive class:',Accuracy_pos_ds2)"
      ],
      "execution_count": null,
      "outputs": [
        {
          "output_type": "stream",
          "name": "stdout",
          "text": [
            "True Positive of positive class: 201\n",
            "True Negative of positive class: 201\n",
            "False Positive of positive class: 199\n",
            "False Negative of positive class: 199\n",
            "True Positive of negative class: 201\n",
            "True Negative of negative class: 201\n",
            "False Positive of negative class: 199\n",
            "False Negative of negative class: 199\n",
            "Accuracy of Negative class: 0.5025\n",
            "Accuracy of Positive class: 0.5025\n"
          ]
        }
      ]
    },
    {
      "cell_type": "markdown",
      "metadata": {
        "id": "Estn9dv_y1dI"
      },
      "source": [
        "**1.5.2**"
      ]
    },
    {
      "cell_type": "code",
      "metadata": {
        "id": "aSye0vcEy4zd"
      },
      "source": [
        "DS2_train_knn=np.concatenate((DS2_c1_tr,DS2_c2_tr), axis=0)\n",
        "DS2_valid_knn=np.concatenate((DS2_c1_val,DS2_c2_val), axis=0)\n",
        "DS2_valid_knn_class=np.transpose((np.concatenate((DS2_c1_val,DS2_c2_val), axis=0)[:,-1:]))[0]\n",
        "DS2_test_knn=np.concatenate((DS2_c1_test,DS2_c2_test), axis=0)\n",
        "DS2_test_knn_class=np.transpose((np.concatenate((DS2_c1_test,DS2_c2_test), axis=0)[:,-1:]))[0]\n",
        "# DS2_train_knn_total=np.concatenate((DS2_train_knn,DS2_valid_knn), axis=0)"
      ],
      "execution_count": null,
      "outputs": []
    },
    {
      "cell_type": "code",
      "metadata": {
        "id": "Jc8sVgBlzSiO"
      },
      "source": [
        "classing_ds2={}\n",
        "\n",
        "# metric_neg={'TP':0,'TN':0,'FP':0,'FN':0}\n",
        "for k in range(1,50):\n",
        "  metric_pos={'TP':0,'TN':0,'FP':0,'FN':0}\n",
        "  c_list=[]\n",
        "  for j in range(len(DS2_valid_knn)):\n",
        "    # dist_list=euclidien_dist(DS1_valid_knn[j:j+1,:],DS1_train_knn[:,:-1])\n",
        "    c=K_NN(DS2_valid_knn[j:j+1,:-1],DS2_train_knn,k)\n",
        "    c_list.append(c)\n",
        "    if c==DS2_valid_knn_class[j]==1:\n",
        "      metric_pos['TP']+=1\n",
        "    elif c!=DS2_valid_knn_class[j]==1:\n",
        "      metric_pos['FN']+=1\n",
        "    elif DS2_valid_knn_class[j]!=c==1:\n",
        "      metric_pos['FP']+=1\n",
        "    elif c==DS2_valid_knn_class[j]!=1:\n",
        "      metric_pos['TN']+=1\n",
        "    \n",
        "  classing_ds2[k]=metric_pos"
      ],
      "execution_count": null,
      "outputs": []
    },
    {
      "cell_type": "code",
      "metadata": {
        "colab": {
          "base_uri": "https://localhost:8080/"
        },
        "id": "wgxQtX8RO0Jd",
        "outputId": "2a1d70ed-ae4e-42cf-bd07-dbd29336079d"
      },
      "source": [
        "classing_ds2"
      ],
      "execution_count": null,
      "outputs": [
        {
          "output_type": "execute_result",
          "data": {
            "text/plain": [
              "{1: {'FN': 196, 'FP': 192, 'TN': 208, 'TP': 204},\n",
              " 2: {'FN': 298, 'FP': 96, 'TN': 304, 'TP': 102},\n",
              " 3: {'FN': 201, 'FP': 190, 'TN': 210, 'TP': 199},\n",
              " 4: {'FN': 270, 'FP': 107, 'TN': 293, 'TP': 130},\n",
              " 5: {'FN': 209, 'FP': 191, 'TN': 209, 'TP': 191},\n",
              " 6: {'FN': 256, 'FP': 132, 'TN': 268, 'TP': 144},\n",
              " 7: {'FN': 200, 'FP': 182, 'TN': 218, 'TP': 200},\n",
              " 8: {'FN': 241, 'FP': 122, 'TN': 278, 'TP': 159},\n",
              " 9: {'FN': 200, 'FP': 174, 'TN': 226, 'TP': 200},\n",
              " 10: {'FN': 241, 'FP': 129, 'TN': 271, 'TP': 159},\n",
              " 11: {'FN': 204, 'FP': 187, 'TN': 213, 'TP': 196},\n",
              " 12: {'FN': 236, 'FP': 135, 'TN': 265, 'TP': 164},\n",
              " 13: {'FN': 195, 'FP': 189, 'TN': 211, 'TP': 205},\n",
              " 14: {'FN': 222, 'FP': 146, 'TN': 254, 'TP': 178},\n",
              " 15: {'FN': 193, 'FP': 188, 'TN': 212, 'TP': 207},\n",
              " 16: {'FN': 228, 'FP': 144, 'TN': 256, 'TP': 172},\n",
              " 17: {'FN': 196, 'FP': 180, 'TN': 220, 'TP': 204},\n",
              " 18: {'FN': 226, 'FP': 155, 'TN': 245, 'TP': 174},\n",
              " 19: {'FN': 191, 'FP': 182, 'TN': 218, 'TP': 209},\n",
              " 20: {'FN': 219, 'FP': 148, 'TN': 252, 'TP': 181},\n",
              " 21: {'FN': 190, 'FP': 169, 'TN': 231, 'TP': 210},\n",
              " 22: {'FN': 214, 'FP': 146, 'TN': 254, 'TP': 186},\n",
              " 23: {'FN': 188, 'FP': 170, 'TN': 230, 'TP': 212},\n",
              " 24: {'FN': 221, 'FP': 142, 'TN': 258, 'TP': 179},\n",
              " 25: {'FN': 196, 'FP': 172, 'TN': 228, 'TP': 204},\n",
              " 26: {'FN': 223, 'FP': 138, 'TN': 262, 'TP': 177},\n",
              " 27: {'FN': 198, 'FP': 163, 'TN': 237, 'TP': 202},\n",
              " 28: {'FN': 218, 'FP': 136, 'TN': 264, 'TP': 182},\n",
              " 29: {'FN': 199, 'FP': 174, 'TN': 226, 'TP': 201},\n",
              " 30: {'FN': 217, 'FP': 147, 'TN': 253, 'TP': 183},\n",
              " 31: {'FN': 197, 'FP': 173, 'TN': 227, 'TP': 203},\n",
              " 32: {'FN': 222, 'FP': 148, 'TN': 252, 'TP': 178},\n",
              " 33: {'FN': 200, 'FP': 181, 'TN': 219, 'TP': 200},\n",
              " 34: {'FN': 222, 'FP': 146, 'TN': 254, 'TP': 178},\n",
              " 35: {'FN': 199, 'FP': 175, 'TN': 225, 'TP': 201},\n",
              " 36: {'FN': 219, 'FP': 147, 'TN': 253, 'TP': 181},\n",
              " 37: {'FN': 203, 'FP': 169, 'TN': 231, 'TP': 197},\n",
              " 38: {'FN': 223, 'FP': 145, 'TN': 255, 'TP': 177},\n",
              " 39: {'FN': 195, 'FP': 166, 'TN': 234, 'TP': 205},\n",
              " 40: {'FN': 218, 'FP': 145, 'TN': 255, 'TP': 182},\n",
              " 41: {'FN': 197, 'FP': 171, 'TN': 229, 'TP': 203},\n",
              " 42: {'FN': 218, 'FP': 145, 'TN': 255, 'TP': 182},\n",
              " 43: {'FN': 203, 'FP': 170, 'TN': 230, 'TP': 197},\n",
              " 44: {'FN': 222, 'FP': 149, 'TN': 251, 'TP': 178},\n",
              " 45: {'FN': 208, 'FP': 172, 'TN': 228, 'TP': 192},\n",
              " 46: {'FN': 221, 'FP': 153, 'TN': 247, 'TP': 179},\n",
              " 47: {'FN': 206, 'FP': 171, 'TN': 229, 'TP': 194},\n",
              " 48: {'FN': 228, 'FP': 148, 'TN': 252, 'TP': 172},\n",
              " 49: {'FN': 206, 'FP': 178, 'TN': 222, 'TP': 194}}"
            ]
          },
          "metadata": {},
          "execution_count": 211
        }
      ]
    },
    {
      "cell_type": "code",
      "metadata": {
        "colab": {
          "base_uri": "https://localhost:8080/"
        },
        "id": "S09_LE2UzWOZ",
        "outputId": "8e3c439b-2df8-45d5-ba56-08844abd574e"
      },
      "source": [
        "accuracy_ds2={}\n",
        "# precision={}\n",
        "# recall={}\n",
        "for k,c in classing_ds2.items():\n",
        "  accuracy_ds2[k]=(c['TP']+c['TN'])/(c['TP']+c['TN']+c['FP']+c['FN'])\n",
        "  # precision[k]=(c['TP'])/(c['TP']+c['FP'])\n",
        "  # recall[k]=(c['TP'])/(c['TP']+c['FN'])\n",
        "\n",
        "\n",
        "print('Maximum accuracy obtained at K=',max(accuracy_ds2, key=accuracy_ds2.get),'with accuracy of',accuracy_ds2[max(accuracy_ds2, key=accuracy_ds2.get)] )\n",
        "# print('Maximum precision obtained at K=',max(precision, key=precision.get))\n",
        "# print('Maximum recall obtained at K=',max(recall, key=recall.get))"
      ],
      "execution_count": null,
      "outputs": [
        {
          "output_type": "stream",
          "name": "stdout",
          "text": [
            "Maximum accuracy obtained at K= 28 with accuracy of 0.5575\n"
          ]
        }
      ]
    },
    {
      "cell_type": "code",
      "metadata": {
        "colab": {
          "base_uri": "https://localhost:8080/"
        },
        "id": "J4DBZL5iPMdX",
        "outputId": "7cdc6483-68f9-4997-d0d1-9e8372e62834"
      },
      "source": [
        "accuracy_ds2"
      ],
      "execution_count": null,
      "outputs": [
        {
          "output_type": "execute_result",
          "data": {
            "text/plain": [
              "{1: 0.515,\n",
              " 2: 0.5075,\n",
              " 3: 0.51125,\n",
              " 4: 0.52875,\n",
              " 5: 0.5,\n",
              " 6: 0.515,\n",
              " 7: 0.5225,\n",
              " 8: 0.54625,\n",
              " 9: 0.5325,\n",
              " 10: 0.5375,\n",
              " 11: 0.51125,\n",
              " 12: 0.53625,\n",
              " 13: 0.52,\n",
              " 14: 0.54,\n",
              " 15: 0.52375,\n",
              " 16: 0.535,\n",
              " 17: 0.53,\n",
              " 18: 0.52375,\n",
              " 19: 0.53375,\n",
              " 20: 0.54125,\n",
              " 21: 0.55125,\n",
              " 22: 0.55,\n",
              " 23: 0.5525,\n",
              " 24: 0.54625,\n",
              " 25: 0.54,\n",
              " 26: 0.54875,\n",
              " 27: 0.54875,\n",
              " 28: 0.5575,\n",
              " 29: 0.53375,\n",
              " 30: 0.545,\n",
              " 31: 0.5375,\n",
              " 32: 0.5375,\n",
              " 33: 0.52375,\n",
              " 34: 0.54,\n",
              " 35: 0.5325,\n",
              " 36: 0.5425,\n",
              " 37: 0.535,\n",
              " 38: 0.54,\n",
              " 39: 0.54875,\n",
              " 40: 0.54625,\n",
              " 41: 0.54,\n",
              " 42: 0.54625,\n",
              " 43: 0.53375,\n",
              " 44: 0.53625,\n",
              " 45: 0.525,\n",
              " 46: 0.5325,\n",
              " 47: 0.52875,\n",
              " 48: 0.53,\n",
              " 49: 0.52}"
            ]
          },
          "metadata": {},
          "execution_count": 213
        }
      ]
    },
    {
      "cell_type": "code",
      "metadata": {
        "id": "QgOpcFay1M_N"
      },
      "source": [
        "metric_pos_test_ds2={'TP':0,'TN':0,'FP':0,'FN':0}\n",
        "K_ds2=max(accuracy_ds2, key=accuracy_ds2.get)\n",
        "for j in range(len(DS2_test_knn)):\n",
        "  # dist_list=euclidien_dist(DS1_valid_knn[j:j+1,:],DS1_train_knn[:,:-1])\n",
        "  c=K_NN(DS2_test_knn[j:j+1,:-1],DS2_train_knn,K_ds2)\n",
        "  if c==DS2_test_knn_class[j]==1:\n",
        "    metric_pos_test_ds2['TP']+=1\n",
        "  elif c!=DS2_test_knn_class[j]==1:\n",
        "    metric_pos_test_ds2['FN']+=1\n",
        "  elif DS2_test_knn_class[j]!=c==1:\n",
        "    metric_pos_test_ds2['FP']+=1\n",
        "  elif c==DS2_test_knn_class[j]!=1:\n",
        "    metric_pos_test_ds2['TN']+=1"
      ],
      "execution_count": null,
      "outputs": []
    },
    {
      "cell_type": "code",
      "metadata": {
        "colab": {
          "base_uri": "https://localhost:8080/"
        },
        "id": "O9wza7Ue1Pxr",
        "outputId": "1f0f2734-b0ad-49fd-bd08-2537fdc3a33f"
      },
      "source": [
        "accuracy_test_ds2=(metric_pos_test_ds2['TP']+metric_pos_test_ds2['TN'])/(metric_pos_test_ds2['TP']+metric_pos_test_ds2['TN']+metric_pos_test_ds2['FP']+metric_pos_test_ds2['FN'])\n",
        "# precision_test=(metric_pos_test['TP'])/(metric_pos_test['TP']+metric_pos_test['FP'])\n",
        "# recall_test=(metric_pos_test['TP'])/(metric_pos_test['TP']+metric_pos_test['FN'])\n",
        "print(f'The results of {K_ds2}-NN on test dataset is: \\n {metric_pos_test_ds2} \\n the accuracy on test dataset is: {accuracy_test_ds2}')\n"
      ],
      "execution_count": null,
      "outputs": [
        {
          "output_type": "stream",
          "name": "stdout",
          "text": [
            "The results of 28-NN on test dataset is: \n",
            " {'TP': 181, 'TN': 250, 'FP': 150, 'FN': 219} \n",
            " the accuracy on test dataset is: 0.53875\n"
          ]
        }
      ]
    },
    {
      "cell_type": "markdown",
      "metadata": {
        "id": "TMiBH7RxXTB1"
      },
      "source": [
        "**2 MNIST Handwritten Digits Classification**"
      ]
    },
    {
      "cell_type": "markdown",
      "metadata": {
        "id": "gH5H_syrXa_M"
      },
      "source": [
        "#2 MNIST Handwritten Digits Classification"
      ]
    },
    {
      "cell_type": "code",
      "metadata": {
        "id": "ZVwGMIOeR1w4"
      },
      "source": [
        "import numpy as np"
      ],
      "execution_count": null,
      "outputs": []
    },
    {
      "cell_type": "code",
      "metadata": {
        "id": "sYdYG-9-XZfV"
      },
      "source": [
        "#Import Keras\n",
        "from tensorflow import keras\n",
        "# Loading the MNIST dataset\n",
        "(x_train, y_train), (x_test, y_test) = keras.datasets.mnist.load_data()"
      ],
      "execution_count": null,
      "outputs": []
    },
    {
      "cell_type": "code",
      "metadata": {
        "id": "fvoCVjHCcqOz"
      },
      "source": [
        "x_train_tr=x_train[:50000,:,:]\n",
        "x_train_val=x_train[50000:60000,:,:]\n",
        "y_train_tr=y_train[:50000]\n",
        "y_train_val=y_train[50000:60000]"
      ],
      "execution_count": null,
      "outputs": []
    },
    {
      "cell_type": "code",
      "metadata": {
        "id": "j2FiZLWdX6MT"
      },
      "source": [
        "x_train_tr_fl=x_train_tr.reshape(50000,784)\n",
        "x_train_val_fl=x_train_val.reshape(10000,784)\n",
        "x_test_fl=x_test.reshape(10000,784)"
      ],
      "execution_count": null,
      "outputs": []
    },
    {
      "cell_type": "code",
      "metadata": {
        "id": "jPnilcrci3CY"
      },
      "source": [
        "x_train_tr_fl=x_train_tr_fl/255\n",
        "x_train_val_fl=x_train_val_fl/255\n",
        "x_test_fl=x_test_fl/255"
      ],
      "execution_count": null,
      "outputs": []
    },
    {
      "cell_type": "code",
      "metadata": {
        "id": "jPBYwi5O13VM"
      },
      "source": [
        "x_train_gnb=np.concatenate((x_train_tr_fl,x_train_val_fl),axis=0)\n",
        "y_train_gnb=np.concatenate((y_train_tr,y_train_val),axis=0)"
      ],
      "execution_count": null,
      "outputs": []
    },
    {
      "cell_type": "markdown",
      "metadata": {
        "id": "erlcsMio6m_P"
      },
      "source": [
        "#2.1"
      ]
    },
    {
      "cell_type": "code",
      "metadata": {
        "id": "ESWmjXu52a66"
      },
      "source": [
        "#priors\n",
        "def calc_prior(y_train):\n",
        "  prior = np.unique(y_train, return_counts=True)[1]/len(y_train)\n",
        "  return prior\n"
      ],
      "execution_count": null,
      "outputs": []
    },
    {
      "cell_type": "code",
      "metadata": {
        "id": "NUgODUAZqb_B"
      },
      "source": [
        "prior=calc_prior(y_train_tr)"
      ],
      "execution_count": null,
      "outputs": []
    },
    {
      "cell_type": "code",
      "metadata": {
        "colab": {
          "base_uri": "https://localhost:8080/"
        },
        "id": "m3XKrRqeSRia",
        "outputId": "357b55f5-94df-4625-bbb3-8560d22b92b7"
      },
      "source": [
        "prior"
      ],
      "execution_count": null,
      "outputs": [
        {
          "output_type": "execute_result",
          "data": {
            "text/plain": [
              "array([0.09864, 0.11356, 0.09936, 0.10202, 0.09718, 0.09012, 0.09902,\n",
              "       0.1035 , 0.09684, 0.09976])"
            ]
          },
          "metadata": {},
          "execution_count": 41
        }
      ]
    },
    {
      "cell_type": "code",
      "metadata": {
        "id": "xwtwLcw1ZD7K"
      },
      "source": [
        "np.log(prior)"
      ],
      "execution_count": null,
      "outputs": []
    },
    {
      "cell_type": "code",
      "metadata": {
        "id": "o5JcWjrIRRNJ"
      },
      "source": [
        "def calc_parameter(dataset,y):\n",
        "  mean=[]\n",
        "  std=[]\n",
        "  for i in np.sort(np.unique(y, return_counts=True)[0]):\n",
        "    mean.append(np.mean(dataset[y==i], axis=0))\n",
        "    std.append(np.std(dataset[y==i],axis=0))\n",
        "\n",
        "  return np.array(mean), np.array(std)\n"
      ],
      "execution_count": null,
      "outputs": []
    },
    {
      "cell_type": "code",
      "metadata": {
        "id": "UwNlKSa0Yl4z"
      },
      "source": [
        "mean,std=calc_parameter(x_train_tr_fl,y_train_tr)"
      ],
      "execution_count": null,
      "outputs": []
    },
    {
      "cell_type": "code",
      "metadata": {
        "id": "avIwhwzKdWw1"
      },
      "source": [
        "def softmax(x):\n",
        "    return np.exp(x) / np.exp(x).sum(axis=0) "
      ],
      "execution_count": null,
      "outputs": []
    },
    {
      "cell_type": "code",
      "metadata": {
        "id": "nGEfkA3yHDzT"
      },
      "source": [
        "from scipy.stats import norm\n",
        "import tqdm \n",
        "\n",
        "def calc_posterior(x_train,y_train,x_test):\n",
        "  posterior_results=[]\n",
        "  mean, std=calc_parameter(x_train,y_train)\n",
        "  std[std==0]=np.min(std[np.nonzero(std)])\n",
        "\n",
        "  prior=calc_prior(y_train)\n",
        "  for row in tqdm.tqdm(x_test):\n",
        "\n",
        "    posterior_list=np.sum(norm.logpdf(np.tile(row, (10,1)), loc=mean, scale=std),axis=1)+np.log(prior)\n",
        "    # posterior_list=softmax(posterior_list)\n",
        "    # print(posterior_list)\n",
        "    posterior_results.append(np.unique(y_train)[np.argmax(posterior_list)])\n",
        "  return posterior_results"
      ],
      "execution_count": null,
      "outputs": []
    },
    {
      "cell_type": "markdown",
      "metadata": {
        "id": "mJACAVBVlN7j"
      },
      "source": [
        "**Validation Dataset**"
      ]
    },
    {
      "cell_type": "code",
      "metadata": {
        "colab": {
          "base_uri": "https://localhost:8080/"
        },
        "id": "8DFB2vUif-AE",
        "outputId": "b9fc5fb4-6824-4a53-da12-72e612c83eae"
      },
      "source": [
        "posterior_list_validation=calc_posterior(x_train_tr_fl,y_train_tr,x_train_val_fl)"
      ],
      "execution_count": null,
      "outputs": [
        {
          "output_type": "stream",
          "name": "stderr",
          "text": [
            "100%|██████████| 10000/10000 [00:18<00:00, 534.30it/s]\n"
          ]
        }
      ]
    },
    {
      "cell_type": "code",
      "metadata": {
        "id": "-zAjfovnXK9i"
      },
      "source": [
        "def calc_results(posterior_lists, y_test):\n",
        "  GNB_result={}\n",
        "  for i in np.sort(np.unique(y_test, return_counts=True)[0]):\n",
        "    metric={'TP':0,'TN':0,'FP':0,'FN':0}\n",
        "    for j,posterior in enumerate(posterior_lists):\n",
        "      if posterior==y_test[j]==i:\n",
        "        metric['TP']+=1\n",
        "      elif posterior!=y_test[j]==i:\n",
        "        metric['FN']+=1\n",
        "      elif y_test[j]!=posterior==i:\n",
        "        metric['FP']+=1\n",
        "      else:\n",
        "        metric['TN']+=1\n",
        "    GNB_result[i]=metric\n",
        "  return GNB_result"
      ],
      "execution_count": null,
      "outputs": []
    },
    {
      "cell_type": "code",
      "metadata": {
        "id": "jvhqf0yFIJ-I"
      },
      "source": [
        "result_validation=calc_results(posterior_list_validation, y_train_val)"
      ],
      "execution_count": null,
      "outputs": []
    },
    {
      "cell_type": "code",
      "metadata": {
        "colab": {
          "base_uri": "https://localhost:8080/"
        },
        "id": "ssXnWTuuNGuu",
        "outputId": "dd3cab6e-7fd3-4203-e5fa-7a0d43e78a69"
      },
      "source": [
        "print(f'The result obtained for each class in the validation set is as follow: \\n')\n",
        "result_validation"
      ],
      "execution_count": null,
      "outputs": [
        {
          "output_type": "stream",
          "name": "stdout",
          "text": [
            "The result obtained for each class in the validation set is as follow: \n",
            "\n"
          ]
        },
        {
          "output_type": "execute_result",
          "data": {
            "text/plain": [
              "{0: {'FN': 132, 'FP': 239, 'TN': 8770, 'TP': 859},\n",
              " 1: {'FN': 58, 'FP': 291, 'TN': 8645, 'TP': 1006},\n",
              " 2: {'FN': 624, 'FP': 38, 'TN': 8972, 'TP': 366},\n",
              " 3: {'FN': 673, 'FP': 127, 'TN': 8843, 'TP': 357},\n",
              " 4: {'FN': 766, 'FP': 32, 'TN': 8985, 'TP': 217},\n",
              " 5: {'FN': 807, 'FP': 45, 'TN': 9040, 'TP': 108},\n",
              " 6: {'FN': 48, 'FP': 378, 'TN': 8655, 'TP': 919},\n",
              " 7: {'FN': 706, 'FP': 32, 'TN': 8878, 'TP': 384},\n",
              " 8: {'FN': 335, 'FP': 1647, 'TN': 7344, 'TP': 674},\n",
              " 9: {'FN': 56, 'FP': 1376, 'TN': 7663, 'TP': 905}}"
            ]
          },
          "metadata": {},
          "execution_count": 74
        }
      ]
    },
    {
      "cell_type": "code",
      "metadata": {
        "id": "lYhTO2EzJj-T"
      },
      "source": [
        "#calculate accuracy for each class\n",
        "accuracy_gnb_validation={}\n",
        "for c,re in result_validation.items():\n",
        "  accuracy_gnb_validation[c]=(re['TP']+re['TN'])/(re['TP']+re['TN']+re['FP']+re['FN'])\n",
        "\n"
      ],
      "execution_count": null,
      "outputs": []
    },
    {
      "cell_type": "code",
      "metadata": {
        "colab": {
          "base_uri": "https://localhost:8080/"
        },
        "id": "PesYbm-TYuHg",
        "outputId": "040f5f36-53c8-4a78-e85f-937d8bc0d8fc"
      },
      "source": [
        "accuracy_gnb_validation"
      ],
      "execution_count": null,
      "outputs": [
        {
          "output_type": "execute_result",
          "data": {
            "text/plain": [
              "{0: 0.9629,\n",
              " 1: 0.9651,\n",
              " 2: 0.9338,\n",
              " 3: 0.92,\n",
              " 4: 0.9202,\n",
              " 5: 0.9148,\n",
              " 6: 0.9574,\n",
              " 7: 0.9262,\n",
              " 8: 0.8018,\n",
              " 9: 0.8568}"
            ]
          },
          "metadata": {},
          "execution_count": 62
        }
      ]
    },
    {
      "cell_type": "code",
      "metadata": {
        "colab": {
          "base_uri": "https://localhost:8080/"
        },
        "id": "W1glmGa1PAM2",
        "outputId": "b39d0dcc-7ec1-4675-8eb4-68112aa16574"
      },
      "source": [
        "#calculate the mean of accuracy for whole mode prediction\n",
        "import statistics as st\n",
        "\n",
        "accuracy_mean=st.mean(accuracy_gnb_validation.values())\n",
        "print(f'the accuracy of the GNB method on validation set is: {accuracy_mean}')"
      ],
      "execution_count": null,
      "outputs": [
        {
          "output_type": "stream",
          "name": "stdout",
          "text": [
            "the accuracy of the GNB method on validation set is: 0.9158999999999999\n"
          ]
        }
      ]
    },
    {
      "cell_type": "markdown",
      "metadata": {
        "id": "RTWFPsDDmMq-"
      },
      "source": [
        "**Test Dataset**"
      ]
    },
    {
      "cell_type": "code",
      "metadata": {
        "colab": {
          "base_uri": "https://localhost:8080/"
        },
        "id": "YXVKFBC0mPtv",
        "outputId": "8c7faf18-4e8b-4cb7-ea8e-610a255f9d2f"
      },
      "source": [
        "posterior_list_test=calc_posterior(x_train_tr_fl,y_train_tr,x_test_fl)"
      ],
      "execution_count": null,
      "outputs": [
        {
          "output_type": "stream",
          "name": "stderr",
          "text": [
            "100%|██████████| 10000/10000 [00:18<00:00, 530.06it/s]\n"
          ]
        }
      ]
    },
    {
      "cell_type": "code",
      "metadata": {
        "id": "3HI4Ef6wmm46"
      },
      "source": [
        "result_test=calc_results(posterior_list_test, y_test)"
      ],
      "execution_count": null,
      "outputs": []
    },
    {
      "cell_type": "code",
      "metadata": {
        "colab": {
          "base_uri": "https://localhost:8080/"
        },
        "id": "NGXkb_adm2Bt",
        "outputId": "147fb849-a7fe-4571-ae66-d0c0f381bff4"
      },
      "source": [
        "print(f'The result obtained for each class in the test set is as follow: \\n')\n",
        "result_test"
      ],
      "execution_count": null,
      "outputs": [
        {
          "output_type": "stream",
          "name": "stdout",
          "text": [
            "The result obtained for each class in the test set is as follow: \n",
            "\n"
          ]
        },
        {
          "output_type": "execute_result",
          "data": {
            "text/plain": [
              "{0: {'FN': 128, 'FP': 183, 'TN': 8837, 'TP': 852},\n",
              " 1: {'FN': 50, 'FP': 213, 'TN': 8652, 'TP': 1085},\n",
              " 2: {'FN': 728, 'FP': 30, 'TN': 8938, 'TP': 304},\n",
              " 3: {'FN': 622, 'FP': 151, 'TN': 8839, 'TP': 388},\n",
              " 4: {'FN': 780, 'FP': 27, 'TN': 8991, 'TP': 202},\n",
              " 5: {'FN': 833, 'FP': 40, 'TN': 9068, 'TP': 59},\n",
              " 6: {'FN': 67, 'FP': 416, 'TN': 8626, 'TP': 891},\n",
              " 7: {'FN': 725, 'FP': 43, 'TN': 8929, 'TP': 303},\n",
              " 8: {'FN': 281, 'FP': 1679, 'TN': 7347, 'TP': 693},\n",
              " 9: {'FN': 62, 'FP': 1494, 'TN': 7497, 'TP': 947}}"
            ]
          },
          "metadata": {},
          "execution_count": 75
        }
      ]
    },
    {
      "cell_type": "code",
      "metadata": {
        "id": "vvpDhIwKm7pA"
      },
      "source": [
        "#calculate accuracy for each class\n",
        "accuracy_gnb_test={}\n",
        "for c,re in result_test.items():\n",
        "  accuracy_gnb_test[c]=(re['TP']+re['TN'])/(re['TP']+re['TN']+re['FP']+re['FN'])"
      ],
      "execution_count": null,
      "outputs": []
    },
    {
      "cell_type": "code",
      "metadata": {
        "colab": {
          "base_uri": "https://localhost:8080/"
        },
        "id": "hoXW1_gNnGP8",
        "outputId": "0d3a4d50-aec7-4ffb-fc0b-01c12d2c9ccc"
      },
      "source": [
        "accuracy_gnb_test"
      ],
      "execution_count": null,
      "outputs": [
        {
          "output_type": "execute_result",
          "data": {
            "text/plain": [
              "{0: 0.9689,\n",
              " 1: 0.9737,\n",
              " 2: 0.9242,\n",
              " 3: 0.9227,\n",
              " 4: 0.9193,\n",
              " 5: 0.9127,\n",
              " 6: 0.9517,\n",
              " 7: 0.9232,\n",
              " 8: 0.804,\n",
              " 9: 0.8444}"
            ]
          },
          "metadata": {},
          "execution_count": 71
        }
      ]
    },
    {
      "cell_type": "code",
      "metadata": {
        "colab": {
          "base_uri": "https://localhost:8080/"
        },
        "id": "dZmmjOHCnJ7i",
        "outputId": "6d0a2a7f-7657-4e74-e146-2018f32e9e74"
      },
      "source": [
        "#calculate the mean of accuracy for whole mode prediction\n",
        "import statistics as st\n",
        "\n",
        "accuracy_mean_test=st.mean(accuracy_gnb_test.values())\n",
        "print(f'the accuracy of the GNB method on test dataset is: {accuracy_mean_test}')"
      ],
      "execution_count": null,
      "outputs": [
        {
          "output_type": "stream",
          "name": "stdout",
          "text": [
            "the accuracy of the GNB method on test dataset is: 0.91448\n"
          ]
        }
      ]
    },
    {
      "cell_type": "markdown",
      "metadata": {
        "id": "XK6QsROJyj09"
      },
      "source": [
        "#2.2"
      ]
    },
    {
      "cell_type": "code",
      "metadata": {
        "id": "YE1wxz9MPlu8"
      },
      "source": [
        "# calculating the result for each class at different K\n",
        "def calc_results(knn_lists, y_test):\n",
        "  knn_result={}\n",
        "  for index in range(len(knn_lists)):\n",
        "    valid_result={}\n",
        "    for i in np.sort(np.unique(y_test, return_counts=True)[0]):\n",
        "      metric={'TP':0,'TN':0,'FP':0,'FN':0}\n",
        "      for j,k in enumerate(knn_lists[index:index+1,:][0]):\n",
        "        if k==y_test[j]==i:\n",
        "          metric['TP']+=1\n",
        "        elif k!=y_test[j]==i:\n",
        "          metric['FN']+=1\n",
        "        elif y_test[j]!=knn_result==i:\n",
        "          metric['FP']+=1\n",
        "        else:\n",
        "          metric['TN']+=1\n",
        "      valid_result[i]=metric\n",
        "    knn_result[index]=valid_result\n",
        "  return knn_result"
      ],
      "execution_count": null,
      "outputs": []
    },
    {
      "cell_type": "code",
      "metadata": {
        "id": "bfWyeRf9b26g"
      },
      "source": [
        "import numpy as np\n",
        "def create_dist_list(test_x, train_x, _norm=np.linalg.norm):\n",
        "  distance_lists=[]\n",
        "  for i in  tqdm.tqdm(range(len(test_x))):\n",
        "    dist_list=[]\n",
        "    for j in range(len(train_x)):\n",
        "      dist_list.append(_norm(test_x[i:i+1,:][0]-train_x[j:j+1,:][0]))\n",
        "    distance_lists.append(dist_list)\n",
        "  return distance_lists\n",
        "\n"
      ],
      "execution_count": null,
      "outputs": []
    },
    {
      "cell_type": "code",
      "metadata": {
        "colab": {
          "base_uri": "https://localhost:8080/"
        },
        "id": "z_FcD9aIcreo",
        "outputId": "0d9def59-85ab-4e99-e0eb-d831000e11c5"
      },
      "source": [
        "validation dataset-distance List Part1 \n",
        "\n",
        "distance_list1=create_dist_list(x_train_val_fl[:2500,:],x_train_tr_fl)"
      ],
      "execution_count": null,
      "outputs": [
        {
          "name": "stderr",
          "output_type": "stream",
          "text": [
            "100%|██████████| 2500/2500 [18:30<00:00,  2.25it/s]\n"
          ]
        }
      ]
    },
    {
      "cell_type": "code",
      "metadata": {
        "id": "8TXzlXoXcgAp"
      },
      "source": [
        "import os\n",
        "df_dist1 = pd.DataFrame(distance_list1)\n",
        "FOLDER_PATH ='/content/drive/MyDrive/Automn 2021/Machin Learning/Assignment2'\n",
        "index_path = os.path.join(FOLDER_PATH, 'distance1.csv')\n",
        "df_dist1.to_csv(open(index_path,'w'), index=False, encoding='utf-8-sig')"
      ],
      "execution_count": null,
      "outputs": []
    },
    {
      "cell_type": "code",
      "metadata": {
        "id": "cjr_7zCJZXrN"
      },
      "source": [
        "#validation dataset- distance List Part2\n",
        "\n",
        "distance_list2=create_dist_list(x_train_val_fl[2500:5000,:],x_train_tr_fl)\n",
        "df_dist2 = pd.DataFrame(distance_list2)\n",
        "FOLDER_PATH ='/content/drive/MyDrive/Automn 2021/Machin Learning/Assignment2'\n",
        "index_path = os.path.join(FOLDER_PATH, 'distance2.csv')\n",
        "df_dist2.to_csv(open(index_path,'w'), index=False, encoding='utf-8-sig')"
      ],
      "execution_count": null,
      "outputs": []
    },
    {
      "cell_type": "code",
      "metadata": {
        "id": "pShY_RxPaE2F"
      },
      "source": [
        "#validation dataset- distance List Part3\n",
        "\n",
        "distance_list3=create_dist_list(x_train_val_fl[5000:7500,:],x_train_tr_fl)\n",
        "df_dist3 = pd.DataFrame(distance_list3)\n",
        "FOLDER_PATH ='/content/drive/MyDrive/Automn 2021/Machin Learning/Assignment2'\n",
        "index_path = os.path.join(FOLDER_PATH, 'distance3.csv')\n",
        "df_dist3.to_csv(open(index_path,'w'), index=False, encoding='utf-8-sig')"
      ],
      "execution_count": null,
      "outputs": []
    },
    {
      "cell_type": "code",
      "metadata": {
        "id": "sRIuJy06aKqt"
      },
      "source": [
        "#validation dataset- distance List Part4\n",
        "\n",
        "distance_list4=create_dist_list(x_train_val_fl[7500:,:],x_train_tr_fl)\n",
        "df_dist4 = pd.DataFrame(distance_list4)\n",
        "FOLDER_PATH ='/content/drive/MyDrive/Automn 2021/Machin Learning/Assignment2'\n",
        "index_path = os.path.join(FOLDER_PATH, 'distance4.csv')\n",
        "df_dist4.to_csv(open(index_path,'w'), index=False, encoding='utf-8-sig')\n"
      ],
      "execution_count": null,
      "outputs": []
    },
    {
      "cell_type": "code",
      "metadata": {
        "id": "7Tg5_xYoajyB"
      },
      "source": [
        "#import distance List part 1 and finding K narest neighbors (np.arange(1,102,4)) and saving the neighbors in 'MNIST_Knn_1.csv'\n",
        "import pandas as pd\n",
        "dist1=pd.read_csv('/content/drive/MyDrive/Automn 2021/Machin Learning/Assignment2/distance1.csv')\n",
        "\n",
        "class_list1=[]\n",
        "for k in np.arange(1,30):\n",
        "  c_list=[]\n",
        "  for j in range(len(x_train_val_fl[:2500,:])):\n",
        "    k_neighbors_index=np.argsort(dist1[j:j+1].to_numpy(), axis=1)[0][:k]\n",
        "    k_neighbors=y_train_tr[k_neighbors_index]\n",
        "    counts = np.unique(k_neighbors, return_counts=True)\n",
        "    c=counts[0][np.argmax(counts[1])]\n",
        "    c_list.append(c)\n",
        "  class_list1.append(c_list)\n",
        "\n",
        "\n",
        "import os\n",
        "df_class_list1 = pd.DataFrame(class_list1)\n",
        "FOLDER_PATH ='/content/drive/MyDrive/Automn 2021/Machin Learning/Assignment2'\n",
        "index_path = os.path.join(FOLDER_PATH, 'MNIST_Knn_1_1.csv')\n",
        "df_class_list1.to_csv(open(index_path,'w'), index=False, encoding='utf-8-sig')"
      ],
      "execution_count": null,
      "outputs": []
    },
    {
      "cell_type": "code",
      "metadata": {
        "id": "9wAFPolCbC2d",
        "colab": {
          "base_uri": "https://localhost:8080/"
        },
        "outputId": "88f5d17c-652a-4eb7-e4b4-d1e93e6039ea"
      },
      "source": [
        "#import distance List part 2 and finding K narest neighbors (np.arange(1,102,4)) and saving the neighbors in 'MNIST_Knn_2.csv'\n",
        "\n",
        "import tqdm\n",
        "dist2=pd.read_csv('/content/drive/MyDrive/Automn 2021/Machin Learning/Assignment2/distance2.csv')\n",
        "\n",
        "class_list2=[]\n",
        "for k in tqdm.tqdm(np.arange(1,30)):\n",
        "  c_list=[]\n",
        "  for j in range(len(x_train_val_fl[2500:5000,:])):\n",
        "    k_neighbors_index=np.argsort(dist2[j:j+1].to_numpy(), axis=1)[0][:k]\n",
        "    k_neighbors=y_train_tr[k_neighbors_index]\n",
        "    counts = np.unique(k_neighbors, return_counts=True)\n",
        "    c=counts[0][np.argmax(counts[1])]\n",
        "    c_list.append(c)\n",
        "  class_list2.append(c_list)\n",
        "\n",
        "df_class_list2 = pd.DataFrame(class_list2)\n",
        "FOLDER_PATH ='/content/drive/MyDrive/Automn 2021/Machin Learning/Assignment2'\n",
        "index_path = os.path.join(FOLDER_PATH, 'MNIST_Knn_2_1.csv')\n",
        "df_class_list2.to_csv(open(index_path,'w'), index=False, encoding='utf-8-sig')"
      ],
      "execution_count": null,
      "outputs": [
        {
          "output_type": "stream",
          "name": "stderr",
          "text": [
            "100%|██████████| 29/29 [07:07<00:00, 14.74s/it]\n"
          ]
        }
      ]
    },
    {
      "cell_type": "code",
      "metadata": {
        "id": "2k-aBwPtbQZf",
        "colab": {
          "base_uri": "https://localhost:8080/"
        },
        "outputId": "c7d8690d-331f-4bb6-d80f-58209f72f49f"
      },
      "source": [
        "#import distance List part 3 and finding K narest neighbors (np.arange(1,102,4)) and saving the neighbors in 'MNIST_Knn_3.csv'\n",
        "\n",
        "dist3=pd.read_csv('/content/drive/MyDrive/Automn 2021/Machin Learning/Assignment2/distance3.csv')\n",
        "\n",
        "class_list3=[]\n",
        "for k in tqdm.tqdm(np.arange(1,30)):\n",
        "  c_list=[]\n",
        "  for j in range(len(x_train_val_fl[5000:7500,:])):\n",
        "    k_neighbors_index=np.argsort(dist3[j:j+1].to_numpy(), axis=1)[0][:k]\n",
        "    k_neighbors=y_train_tr[k_neighbors_index]\n",
        "    counts = np.unique(k_neighbors, return_counts=True)\n",
        "    c=counts[0][np.argmax(counts[1])]\n",
        "    c_list.append(c)\n",
        "  class_list3.append(c_list)\n",
        "\n",
        "df_class_list3 = pd.DataFrame(class_list3)\n",
        "FOLDER_PATH ='/content/drive/MyDrive/Automn 2021/Machin Learning/Assignment2'\n",
        "index_path = os.path.join(FOLDER_PATH, 'MNIST_Knn_3_1.csv')\n",
        "df_class_list3.to_csv(open(index_path,'w'), index=False, encoding='utf-8-sig')\n"
      ],
      "execution_count": null,
      "outputs": [
        {
          "output_type": "stream",
          "name": "stderr",
          "text": [
            "100%|██████████| 29/29 [08:06<00:00, 16.77s/it]\n"
          ]
        }
      ]
    },
    {
      "cell_type": "code",
      "metadata": {
        "id": "rT_9e_MsdixL",
        "colab": {
          "base_uri": "https://localhost:8080/"
        },
        "outputId": "312df365-4bba-48d4-87e3-2de82715ec21"
      },
      "source": [
        "#import distance List part 4 and finding K narest neighbors (np.arange(1,102,4)) and saving the neighbors in 'MNIST_Knn_4.csv'\n",
        "\n",
        "dist4=pd.read_csv('/content/drive/MyDrive/Automn 2021/Machin Learning/Assignment2/distance4.csv')\n",
        "\n",
        "class_list4=[]\n",
        "for k in tqdm.tqdm(np.arange(1,30)):\n",
        "  c_list=[]\n",
        "  for j in range(len(x_train_val_fl[7500:,:])):\n",
        "    k_neighbors_index=np.argsort(dist4[j:j+1].to_numpy(), axis=1)[0][:k]\n",
        "    k_neighbors=y_train_tr[k_neighbors_index]\n",
        "    counts = np.unique(k_neighbors, return_counts=True)\n",
        "    c=counts[0][np.argmax(counts[1])]\n",
        "    c_list.append(c)\n",
        "  class_list4.append(c_list)\n",
        "\n",
        "df_class_list4 = pd.DataFrame(class_list4)\n",
        "FOLDER_PATH ='/content/drive/MyDrive/Automn 2021/Machin Learning/Assignment2'\n",
        "index_path = os.path.join(FOLDER_PATH, 'MNIST_Knn_4_1.csv')\n",
        "df_class_list4.to_csv(open(index_path,'w'), index=False, encoding='utf-8-sig')"
      ],
      "execution_count": null,
      "outputs": [
        {
          "output_type": "stream",
          "name": "stderr",
          "text": [
            "100%|██████████| 29/29 [08:02<00:00, 16.64s/it]\n"
          ]
        }
      ]
    },
    {
      "cell_type": "code",
      "metadata": {
        "id": "_a_KGQyTt_s0"
      },
      "source": [
        "#reading 4 prediction files for validation set and merging them\n",
        "valid_pred1=pd.read_csv('/content/drive/MyDrive/Automn 2021/Machin Learning/Assignment2/MNIST_Knn_1_1.csv')\n",
        "valid_pred2=pd.read_csv('/content/drive/MyDrive/Automn 2021/Machin Learning/Assignment2/MNIST_Knn_2_1.csv')\n",
        "valid_pred3=pd.read_csv('/content/drive/MyDrive/Automn 2021/Machin Learning/Assignment2/MNIST_Knn_3_1.csv')\n",
        "valid_pred4=pd.read_csv('/content/drive/MyDrive/Automn 2021/Machin Learning/Assignment2/MNIST_Knn_4_1.csv')\n",
        "\n",
        "valid_predi_total=pd.concat([valid_pred1,valid_pred2,valid_pred3,valid_pred4],axis=1, ignore_index=True).to_numpy()"
      ],
      "execution_count": null,
      "outputs": []
    },
    {
      "cell_type": "code",
      "metadata": {
        "id": "3AWoCmeiRPcW"
      },
      "source": [
        "# calculating the result for each class at different K\n",
        "def calc_results(knn_lists, y_test):\n",
        "  knn_result={}\n",
        "  for index in range(len(knn_lists)): \n",
        "    valid_result={}\n",
        "    for i in np.sort(np.unique(y_test, return_counts=True)[0]):\n",
        "      metric={'TP':0,'TN':0,'FP':0,'FN':0}\n",
        "      for j,k in enumerate(knn_lists[index:index+1,:][0]):\n",
        "        if k==y_test[j]==i:\n",
        "          metric['TP']+=1\n",
        "        elif k!=y_test[j]==i:\n",
        "          metric['FN']+=1\n",
        "        elif y_test[j]!=knn_result==i:\n",
        "          metric['FP']+=1\n",
        "        else:\n",
        "          metric['TN']+=1\n",
        "      valid_result[i]=metric\n",
        "    knn_result[index]=valid_result\n",
        "  return knn_result"
      ],
      "execution_count": null,
      "outputs": []
    },
    {
      "cell_type": "code",
      "metadata": {
        "colab": {
          "base_uri": "https://localhost:8080/"
        },
        "id": "JZW_3BLrA24R",
        "outputId": "fee237ef-2ffc-4a63-b6f6-ec47d92c12e3"
      },
      "source": [
        "knn_validation_result=calc_results(valid_predi_total, y_train_val)\n",
        "corrected_knn_validation_result={}\n",
        "# #change keys in the dictionary to represent actual values of K\n",
        "for new_key, old_key in zip(np.arange(1,30),knn_validation_result.keys()):\n",
        "  corrected_knn_validation_result[new_key]=knn_validation_result[old_key]\n",
        "corrected_knn_validation_result  \n",
        "corrected_knn_validation_result"
      ],
      "execution_count": null,
      "outputs": [
        {
          "output_type": "execute_result",
          "data": {
            "text/plain": [
              "{1: {0: {'FN': 8, 'FP': 0, 'TN': 9009, 'TP': 983},\n",
              "  1: {'FN': 6, 'FP': 0, 'TN': 8936, 'TP': 1058},\n",
              "  2: {'FN': 29, 'FP': 0, 'TN': 9010, 'TP': 961},\n",
              "  3: {'FN': 35, 'FP': 0, 'TN': 8970, 'TP': 995},\n",
              "  4: {'FN': 38, 'FP': 0, 'TN': 9017, 'TP': 945},\n",
              "  5: {'FN': 46, 'FP': 0, 'TN': 9085, 'TP': 869},\n",
              "  6: {'FN': 3, 'FP': 0, 'TN': 9033, 'TP': 964},\n",
              "  7: {'FN': 22, 'FP': 0, 'TN': 8910, 'TP': 1068},\n",
              "  8: {'FN': 55, 'FP': 0, 'TN': 8991, 'TP': 954},\n",
              "  9: {'FN': 46, 'FP': 0, 'TN': 9039, 'TP': 915}},\n",
              " 2: {0: {'FN': 3, 'FP': 0, 'TN': 9009, 'TP': 988},\n",
              "  1: {'FN': 2, 'FP': 0, 'TN': 8936, 'TP': 1062},\n",
              "  2: {'FN': 28, 'FP': 0, 'TN': 9010, 'TP': 962},\n",
              "  3: {'FN': 22, 'FP': 0, 'TN': 8970, 'TP': 1008},\n",
              "  4: {'FN': 26, 'FP': 0, 'TN': 9017, 'TP': 957},\n",
              "  5: {'FN': 56, 'FP': 0, 'TN': 9085, 'TP': 859},\n",
              "  6: {'FN': 8, 'FP': 0, 'TN': 9033, 'TP': 959},\n",
              "  7: {'FN': 22, 'FP': 0, 'TN': 8910, 'TP': 1068},\n",
              "  8: {'FN': 82, 'FP': 0, 'TN': 8991, 'TP': 927},\n",
              "  9: {'FN': 84, 'FP': 0, 'TN': 9039, 'TP': 877}},\n",
              " 3: {0: {'FN': 7, 'FP': 0, 'TN': 9009, 'TP': 984},\n",
              "  1: {'FN': 4, 'FP': 0, 'TN': 8936, 'TP': 1060},\n",
              "  2: {'FN': 37, 'FP': 0, 'TN': 9010, 'TP': 953},\n",
              "  3: {'FN': 28, 'FP': 0, 'TN': 8970, 'TP': 1002},\n",
              "  4: {'FN': 32, 'FP': 0, 'TN': 9017, 'TP': 951},\n",
              "  5: {'FN': 46, 'FP': 0, 'TN': 9085, 'TP': 869},\n",
              "  6: {'FN': 3, 'FP': 0, 'TN': 9033, 'TP': 964},\n",
              "  7: {'FN': 19, 'FP': 0, 'TN': 8910, 'TP': 1071},\n",
              "  8: {'FN': 62, 'FP': 0, 'TN': 8991, 'TP': 947},\n",
              "  9: {'FN': 42, 'FP': 0, 'TN': 9039, 'TP': 919}},\n",
              " 4: {0: {'FN': 6, 'FP': 0, 'TN': 9009, 'TP': 985},\n",
              "  1: {'FN': 4, 'FP': 0, 'TN': 8936, 'TP': 1060},\n",
              "  2: {'FN': 31, 'FP': 0, 'TN': 9010, 'TP': 959},\n",
              "  3: {'FN': 17, 'FP': 0, 'TN': 8970, 'TP': 1013},\n",
              "  4: {'FN': 30, 'FP': 0, 'TN': 9017, 'TP': 953},\n",
              "  5: {'FN': 50, 'FP': 0, 'TN': 9085, 'TP': 865},\n",
              "  6: {'FN': 2, 'FP': 0, 'TN': 9033, 'TP': 965},\n",
              "  7: {'FN': 20, 'FP': 0, 'TN': 8910, 'TP': 1070},\n",
              "  8: {'FN': 67, 'FP': 0, 'TN': 8991, 'TP': 942},\n",
              "  9: {'FN': 47, 'FP': 0, 'TN': 9039, 'TP': 914}},\n",
              " 5: {0: {'FN': 7, 'FP': 0, 'TN': 9009, 'TP': 984},\n",
              "  1: {'FN': 4, 'FP': 0, 'TN': 8936, 'TP': 1060},\n",
              "  2: {'FN': 36, 'FP': 0, 'TN': 9010, 'TP': 954},\n",
              "  3: {'FN': 24, 'FP': 0, 'TN': 8970, 'TP': 1006},\n",
              "  4: {'FN': 36, 'FP': 0, 'TN': 9017, 'TP': 947},\n",
              "  5: {'FN': 45, 'FP': 0, 'TN': 9085, 'TP': 870},\n",
              "  6: {'FN': 4, 'FP': 0, 'TN': 9033, 'TP': 963},\n",
              "  7: {'FN': 21, 'FP': 0, 'TN': 8910, 'TP': 1069},\n",
              "  8: {'FN': 65, 'FP': 0, 'TN': 8991, 'TP': 944},\n",
              "  9: {'FN': 40, 'FP': 0, 'TN': 9039, 'TP': 921}},\n",
              " 6: {0: {'FN': 6, 'FP': 0, 'TN': 9009, 'TP': 985},\n",
              "  1: {'FN': 4, 'FP': 0, 'TN': 8936, 'TP': 1060},\n",
              "  2: {'FN': 35, 'FP': 0, 'TN': 9010, 'TP': 955},\n",
              "  3: {'FN': 22, 'FP': 0, 'TN': 8970, 'TP': 1008},\n",
              "  4: {'FN': 33, 'FP': 0, 'TN': 9017, 'TP': 950},\n",
              "  5: {'FN': 51, 'FP': 0, 'TN': 9085, 'TP': 864},\n",
              "  6: {'FN': 4, 'FP': 0, 'TN': 9033, 'TP': 963},\n",
              "  7: {'FN': 23, 'FP': 0, 'TN': 8910, 'TP': 1067},\n",
              "  8: {'FN': 65, 'FP': 0, 'TN': 8991, 'TP': 944},\n",
              "  9: {'FN': 47, 'FP': 0, 'TN': 9039, 'TP': 914}},\n",
              " 7: {0: {'FN': 7, 'FP': 0, 'TN': 9009, 'TP': 984},\n",
              "  1: {'FN': 3, 'FP': 0, 'TN': 8936, 'TP': 1061},\n",
              "  2: {'FN': 39, 'FP': 0, 'TN': 9010, 'TP': 951},\n",
              "  3: {'FN': 22, 'FP': 0, 'TN': 8970, 'TP': 1008},\n",
              "  4: {'FN': 39, 'FP': 0, 'TN': 9017, 'TP': 944},\n",
              "  5: {'FN': 46, 'FP': 0, 'TN': 9085, 'TP': 869},\n",
              "  6: {'FN': 4, 'FP': 0, 'TN': 9033, 'TP': 963},\n",
              "  7: {'FN': 27, 'FP': 0, 'TN': 8910, 'TP': 1063},\n",
              "  8: {'FN': 63, 'FP': 0, 'TN': 8991, 'TP': 946},\n",
              "  9: {'FN': 42, 'FP': 0, 'TN': 9039, 'TP': 919}},\n",
              " 8: {0: {'FN': 6, 'FP': 0, 'TN': 9009, 'TP': 985},\n",
              "  1: {'FN': 3, 'FP': 0, 'TN': 8936, 'TP': 1061},\n",
              "  2: {'FN': 38, 'FP': 0, 'TN': 9010, 'TP': 952},\n",
              "  3: {'FN': 21, 'FP': 0, 'TN': 8970, 'TP': 1009},\n",
              "  4: {'FN': 35, 'FP': 0, 'TN': 9017, 'TP': 948},\n",
              "  5: {'FN': 47, 'FP': 0, 'TN': 9085, 'TP': 868},\n",
              "  6: {'FN': 3, 'FP': 0, 'TN': 9033, 'TP': 964},\n",
              "  7: {'FN': 26, 'FP': 0, 'TN': 8910, 'TP': 1064},\n",
              "  8: {'FN': 71, 'FP': 0, 'TN': 8991, 'TP': 938},\n",
              "  9: {'FN': 42, 'FP': 0, 'TN': 9039, 'TP': 919}},\n",
              " 9: {0: {'FN': 6, 'FP': 0, 'TN': 9009, 'TP': 985},\n",
              "  1: {'FN': 4, 'FP': 0, 'TN': 8936, 'TP': 1060},\n",
              "  2: {'FN': 40, 'FP': 0, 'TN': 9010, 'TP': 950},\n",
              "  3: {'FN': 24, 'FP': 0, 'TN': 8970, 'TP': 1006},\n",
              "  4: {'FN': 39, 'FP': 0, 'TN': 9017, 'TP': 944},\n",
              "  5: {'FN': 42, 'FP': 0, 'TN': 9085, 'TP': 873},\n",
              "  6: {'FN': 3, 'FP': 0, 'TN': 9033, 'TP': 964},\n",
              "  7: {'FN': 26, 'FP': 0, 'TN': 8910, 'TP': 1064},\n",
              "  8: {'FN': 68, 'FP': 0, 'TN': 8991, 'TP': 941},\n",
              "  9: {'FN': 43, 'FP': 0, 'TN': 9039, 'TP': 918}},\n",
              " 10: {0: {'FN': 6, 'FP': 0, 'TN': 9009, 'TP': 985},\n",
              "  1: {'FN': 5, 'FP': 0, 'TN': 8936, 'TP': 1059},\n",
              "  2: {'FN': 38, 'FP': 0, 'TN': 9010, 'TP': 952},\n",
              "  3: {'FN': 24, 'FP': 0, 'TN': 8970, 'TP': 1006},\n",
              "  4: {'FN': 36, 'FP': 0, 'TN': 9017, 'TP': 947},\n",
              "  5: {'FN': 45, 'FP': 0, 'TN': 9085, 'TP': 870},\n",
              "  6: {'FN': 3, 'FP': 0, 'TN': 9033, 'TP': 964},\n",
              "  7: {'FN': 27, 'FP': 0, 'TN': 8910, 'TP': 1063},\n",
              "  8: {'FN': 71, 'FP': 0, 'TN': 8991, 'TP': 938},\n",
              "  9: {'FN': 44, 'FP': 0, 'TN': 9039, 'TP': 917}},\n",
              " 11: {0: {'FN': 7, 'FP': 0, 'TN': 9009, 'TP': 984},\n",
              "  1: {'FN': 6, 'FP': 0, 'TN': 8936, 'TP': 1058},\n",
              "  2: {'FN': 42, 'FP': 0, 'TN': 9010, 'TP': 948},\n",
              "  3: {'FN': 25, 'FP': 0, 'TN': 8970, 'TP': 1005},\n",
              "  4: {'FN': 39, 'FP': 0, 'TN': 9017, 'TP': 944},\n",
              "  5: {'FN': 44, 'FP': 0, 'TN': 9085, 'TP': 871},\n",
              "  6: {'FN': 3, 'FP': 0, 'TN': 9033, 'TP': 964},\n",
              "  7: {'FN': 26, 'FP': 0, 'TN': 8910, 'TP': 1064},\n",
              "  8: {'FN': 77, 'FP': 0, 'TN': 8991, 'TP': 932},\n",
              "  9: {'FN': 39, 'FP': 0, 'TN': 9039, 'TP': 922}},\n",
              " 12: {0: {'FN': 6, 'FP': 0, 'TN': 9009, 'TP': 985},\n",
              "  1: {'FN': 5, 'FP': 0, 'TN': 8936, 'TP': 1059},\n",
              "  2: {'FN': 43, 'FP': 0, 'TN': 9010, 'TP': 947},\n",
              "  3: {'FN': 24, 'FP': 0, 'TN': 8970, 'TP': 1006},\n",
              "  4: {'FN': 40, 'FP': 0, 'TN': 9017, 'TP': 943},\n",
              "  5: {'FN': 47, 'FP': 0, 'TN': 9085, 'TP': 868},\n",
              "  6: {'FN': 5, 'FP': 0, 'TN': 9033, 'TP': 962},\n",
              "  7: {'FN': 28, 'FP': 0, 'TN': 8910, 'TP': 1062},\n",
              "  8: {'FN': 83, 'FP': 0, 'TN': 8991, 'TP': 926},\n",
              "  9: {'FN': 42, 'FP': 0, 'TN': 9039, 'TP': 919}},\n",
              " 13: {0: {'FN': 6, 'FP': 0, 'TN': 9009, 'TP': 985},\n",
              "  1: {'FN': 6, 'FP': 0, 'TN': 8936, 'TP': 1058},\n",
              "  2: {'FN': 44, 'FP': 0, 'TN': 9010, 'TP': 946},\n",
              "  3: {'FN': 26, 'FP': 0, 'TN': 8970, 'TP': 1004},\n",
              "  4: {'FN': 38, 'FP': 0, 'TN': 9017, 'TP': 945},\n",
              "  5: {'FN': 46, 'FP': 0, 'TN': 9085, 'TP': 869},\n",
              "  6: {'FN': 4, 'FP': 0, 'TN': 9033, 'TP': 963},\n",
              "  7: {'FN': 29, 'FP': 0, 'TN': 8910, 'TP': 1061},\n",
              "  8: {'FN': 81, 'FP': 0, 'TN': 8991, 'TP': 928},\n",
              "  9: {'FN': 42, 'FP': 0, 'TN': 9039, 'TP': 919}},\n",
              " 14: {0: {'FN': 6, 'FP': 0, 'TN': 9009, 'TP': 985},\n",
              "  1: {'FN': 6, 'FP': 0, 'TN': 8936, 'TP': 1058},\n",
              "  2: {'FN': 45, 'FP': 0, 'TN': 9010, 'TP': 945},\n",
              "  3: {'FN': 29, 'FP': 0, 'TN': 8970, 'TP': 1001},\n",
              "  4: {'FN': 38, 'FP': 0, 'TN': 9017, 'TP': 945},\n",
              "  5: {'FN': 48, 'FP': 0, 'TN': 9085, 'TP': 867},\n",
              "  6: {'FN': 4, 'FP': 0, 'TN': 9033, 'TP': 963},\n",
              "  7: {'FN': 29, 'FP': 0, 'TN': 8910, 'TP': 1061},\n",
              "  8: {'FN': 84, 'FP': 0, 'TN': 8991, 'TP': 925},\n",
              "  9: {'FN': 47, 'FP': 0, 'TN': 9039, 'TP': 914}},\n",
              " 15: {0: {'FN': 6, 'FP': 0, 'TN': 9009, 'TP': 985},\n",
              "  1: {'FN': 5, 'FP': 0, 'TN': 8936, 'TP': 1059},\n",
              "  2: {'FN': 48, 'FP': 0, 'TN': 9010, 'TP': 942},\n",
              "  3: {'FN': 27, 'FP': 0, 'TN': 8970, 'TP': 1003},\n",
              "  4: {'FN': 39, 'FP': 0, 'TN': 9017, 'TP': 944},\n",
              "  5: {'FN': 47, 'FP': 0, 'TN': 9085, 'TP': 868},\n",
              "  6: {'FN': 5, 'FP': 0, 'TN': 9033, 'TP': 962},\n",
              "  7: {'FN': 29, 'FP': 0, 'TN': 8910, 'TP': 1061},\n",
              "  8: {'FN': 82, 'FP': 0, 'TN': 8991, 'TP': 927},\n",
              "  9: {'FN': 48, 'FP': 0, 'TN': 9039, 'TP': 913}},\n",
              " 16: {0: {'FN': 7, 'FP': 0, 'TN': 9009, 'TP': 984},\n",
              "  1: {'FN': 5, 'FP': 0, 'TN': 8936, 'TP': 1059},\n",
              "  2: {'FN': 48, 'FP': 0, 'TN': 9010, 'TP': 942},\n",
              "  3: {'FN': 28, 'FP': 0, 'TN': 8970, 'TP': 1002},\n",
              "  4: {'FN': 34, 'FP': 0, 'TN': 9017, 'TP': 949},\n",
              "  5: {'FN': 49, 'FP': 0, 'TN': 9085, 'TP': 866},\n",
              "  6: {'FN': 5, 'FP': 0, 'TN': 9033, 'TP': 962},\n",
              "  7: {'FN': 30, 'FP': 0, 'TN': 8910, 'TP': 1060},\n",
              "  8: {'FN': 83, 'FP': 0, 'TN': 8991, 'TP': 926},\n",
              "  9: {'FN': 50, 'FP': 0, 'TN': 9039, 'TP': 911}},\n",
              " 17: {0: {'FN': 8, 'FP': 0, 'TN': 9009, 'TP': 983},\n",
              "  1: {'FN': 6, 'FP': 0, 'TN': 8936, 'TP': 1058},\n",
              "  2: {'FN': 51, 'FP': 0, 'TN': 9010, 'TP': 939},\n",
              "  3: {'FN': 30, 'FP': 0, 'TN': 8970, 'TP': 1000},\n",
              "  4: {'FN': 39, 'FP': 0, 'TN': 9017, 'TP': 944},\n",
              "  5: {'FN': 45, 'FP': 0, 'TN': 9085, 'TP': 870},\n",
              "  6: {'FN': 6, 'FP': 0, 'TN': 9033, 'TP': 961},\n",
              "  7: {'FN': 27, 'FP': 0, 'TN': 8910, 'TP': 1063},\n",
              "  8: {'FN': 82, 'FP': 0, 'TN': 8991, 'TP': 927},\n",
              "  9: {'FN': 47, 'FP': 0, 'TN': 9039, 'TP': 914}},\n",
              " 18: {0: {'FN': 7, 'FP': 0, 'TN': 9009, 'TP': 984},\n",
              "  1: {'FN': 6, 'FP': 0, 'TN': 8936, 'TP': 1058},\n",
              "  2: {'FN': 52, 'FP': 0, 'TN': 9010, 'TP': 938},\n",
              "  3: {'FN': 29, 'FP': 0, 'TN': 8970, 'TP': 1001},\n",
              "  4: {'FN': 40, 'FP': 0, 'TN': 9017, 'TP': 943},\n",
              "  5: {'FN': 48, 'FP': 0, 'TN': 9085, 'TP': 867},\n",
              "  6: {'FN': 6, 'FP': 0, 'TN': 9033, 'TP': 961},\n",
              "  7: {'FN': 27, 'FP': 0, 'TN': 8910, 'TP': 1063},\n",
              "  8: {'FN': 82, 'FP': 0, 'TN': 8991, 'TP': 927},\n",
              "  9: {'FN': 52, 'FP': 0, 'TN': 9039, 'TP': 909}},\n",
              " 19: {0: {'FN': 7, 'FP': 0, 'TN': 9009, 'TP': 984},\n",
              "  1: {'FN': 6, 'FP': 0, 'TN': 8936, 'TP': 1058},\n",
              "  2: {'FN': 52, 'FP': 0, 'TN': 9010, 'TP': 938},\n",
              "  3: {'FN': 31, 'FP': 0, 'TN': 8970, 'TP': 999},\n",
              "  4: {'FN': 41, 'FP': 0, 'TN': 9017, 'TP': 942},\n",
              "  5: {'FN': 48, 'FP': 0, 'TN': 9085, 'TP': 867},\n",
              "  6: {'FN': 6, 'FP': 0, 'TN': 9033, 'TP': 961},\n",
              "  7: {'FN': 28, 'FP': 0, 'TN': 8910, 'TP': 1062},\n",
              "  8: {'FN': 80, 'FP': 0, 'TN': 8991, 'TP': 929},\n",
              "  9: {'FN': 48, 'FP': 0, 'TN': 9039, 'TP': 913}},\n",
              " 20: {0: {'FN': 7, 'FP': 0, 'TN': 9009, 'TP': 984},\n",
              "  1: {'FN': 6, 'FP': 0, 'TN': 8936, 'TP': 1058},\n",
              "  2: {'FN': 53, 'FP': 0, 'TN': 9010, 'TP': 937},\n",
              "  3: {'FN': 29, 'FP': 0, 'TN': 8970, 'TP': 1001},\n",
              "  4: {'FN': 46, 'FP': 0, 'TN': 9017, 'TP': 937},\n",
              "  5: {'FN': 48, 'FP': 0, 'TN': 9085, 'TP': 867},\n",
              "  6: {'FN': 6, 'FP': 0, 'TN': 9033, 'TP': 961},\n",
              "  7: {'FN': 29, 'FP': 0, 'TN': 8910, 'TP': 1061},\n",
              "  8: {'FN': 84, 'FP': 0, 'TN': 8991, 'TP': 925},\n",
              "  9: {'FN': 51, 'FP': 0, 'TN': 9039, 'TP': 910}},\n",
              " 21: {0: {'FN': 7, 'FP': 0, 'TN': 9009, 'TP': 984},\n",
              "  1: {'FN': 7, 'FP': 0, 'TN': 8936, 'TP': 1057},\n",
              "  2: {'FN': 51, 'FP': 0, 'TN': 9010, 'TP': 939},\n",
              "  3: {'FN': 28, 'FP': 0, 'TN': 8970, 'TP': 1002},\n",
              "  4: {'FN': 46, 'FP': 0, 'TN': 9017, 'TP': 937},\n",
              "  5: {'FN': 46, 'FP': 0, 'TN': 9085, 'TP': 869},\n",
              "  6: {'FN': 6, 'FP': 0, 'TN': 9033, 'TP': 961},\n",
              "  7: {'FN': 30, 'FP': 0, 'TN': 8910, 'TP': 1060},\n",
              "  8: {'FN': 84, 'FP': 0, 'TN': 8991, 'TP': 925},\n",
              "  9: {'FN': 46, 'FP': 0, 'TN': 9039, 'TP': 915}},\n",
              " 22: {0: {'FN': 7, 'FP': 0, 'TN': 9009, 'TP': 984},\n",
              "  1: {'FN': 6, 'FP': 0, 'TN': 8936, 'TP': 1058},\n",
              "  2: {'FN': 53, 'FP': 0, 'TN': 9010, 'TP': 937},\n",
              "  3: {'FN': 28, 'FP': 0, 'TN': 8970, 'TP': 1002},\n",
              "  4: {'FN': 45, 'FP': 0, 'TN': 9017, 'TP': 938},\n",
              "  5: {'FN': 49, 'FP': 0, 'TN': 9085, 'TP': 866},\n",
              "  6: {'FN': 6, 'FP': 0, 'TN': 9033, 'TP': 961},\n",
              "  7: {'FN': 32, 'FP': 0, 'TN': 8910, 'TP': 1058},\n",
              "  8: {'FN': 89, 'FP': 0, 'TN': 8991, 'TP': 920},\n",
              "  9: {'FN': 48, 'FP': 0, 'TN': 9039, 'TP': 913}},\n",
              " 23: {0: {'FN': 8, 'FP': 0, 'TN': 9009, 'TP': 983},\n",
              "  1: {'FN': 7, 'FP': 0, 'TN': 8936, 'TP': 1057},\n",
              "  2: {'FN': 55, 'FP': 0, 'TN': 9010, 'TP': 935},\n",
              "  3: {'FN': 27, 'FP': 0, 'TN': 8970, 'TP': 1003},\n",
              "  4: {'FN': 47, 'FP': 0, 'TN': 9017, 'TP': 936},\n",
              "  5: {'FN': 48, 'FP': 0, 'TN': 9085, 'TP': 867},\n",
              "  6: {'FN': 6, 'FP': 0, 'TN': 9033, 'TP': 961},\n",
              "  7: {'FN': 32, 'FP': 0, 'TN': 8910, 'TP': 1058},\n",
              "  8: {'FN': 90, 'FP': 0, 'TN': 8991, 'TP': 919},\n",
              "  9: {'FN': 48, 'FP': 0, 'TN': 9039, 'TP': 913}},\n",
              " 24: {0: {'FN': 7, 'FP': 0, 'TN': 9009, 'TP': 984},\n",
              "  1: {'FN': 7, 'FP': 0, 'TN': 8936, 'TP': 1057},\n",
              "  2: {'FN': 53, 'FP': 0, 'TN': 9010, 'TP': 937},\n",
              "  3: {'FN': 30, 'FP': 0, 'TN': 8970, 'TP': 1000},\n",
              "  4: {'FN': 47, 'FP': 0, 'TN': 9017, 'TP': 936},\n",
              "  5: {'FN': 49, 'FP': 0, 'TN': 9085, 'TP': 866},\n",
              "  6: {'FN': 6, 'FP': 0, 'TN': 9033, 'TP': 961},\n",
              "  7: {'FN': 34, 'FP': 0, 'TN': 8910, 'TP': 1056},\n",
              "  8: {'FN': 94, 'FP': 0, 'TN': 8991, 'TP': 915},\n",
              "  9: {'FN': 49, 'FP': 0, 'TN': 9039, 'TP': 912}},\n",
              " 25: {0: {'FN': 8, 'FP': 0, 'TN': 9009, 'TP': 983},\n",
              "  1: {'FN': 6, 'FP': 0, 'TN': 8936, 'TP': 1058},\n",
              "  2: {'FN': 56, 'FP': 0, 'TN': 9010, 'TP': 934},\n",
              "  3: {'FN': 33, 'FP': 0, 'TN': 8970, 'TP': 997},\n",
              "  4: {'FN': 47, 'FP': 0, 'TN': 9017, 'TP': 936},\n",
              "  5: {'FN': 51, 'FP': 0, 'TN': 9085, 'TP': 864},\n",
              "  6: {'FN': 6, 'FP': 0, 'TN': 9033, 'TP': 961},\n",
              "  7: {'FN': 33, 'FP': 0, 'TN': 8910, 'TP': 1057},\n",
              "  8: {'FN': 95, 'FP': 0, 'TN': 8991, 'TP': 914},\n",
              "  9: {'FN': 47, 'FP': 0, 'TN': 9039, 'TP': 914}},\n",
              " 26: {0: {'FN': 8, 'FP': 0, 'TN': 9009, 'TP': 983},\n",
              "  1: {'FN': 6, 'FP': 0, 'TN': 8936, 'TP': 1058},\n",
              "  2: {'FN': 55, 'FP': 0, 'TN': 9010, 'TP': 935},\n",
              "  3: {'FN': 33, 'FP': 0, 'TN': 8970, 'TP': 997},\n",
              "  4: {'FN': 45, 'FP': 0, 'TN': 9017, 'TP': 938},\n",
              "  5: {'FN': 50, 'FP': 0, 'TN': 9085, 'TP': 865},\n",
              "  6: {'FN': 6, 'FP': 0, 'TN': 9033, 'TP': 961},\n",
              "  7: {'FN': 35, 'FP': 0, 'TN': 8910, 'TP': 1055},\n",
              "  8: {'FN': 91, 'FP': 0, 'TN': 8991, 'TP': 918},\n",
              "  9: {'FN': 49, 'FP': 0, 'TN': 9039, 'TP': 912}},\n",
              " 27: {0: {'FN': 8, 'FP': 0, 'TN': 9009, 'TP': 983},\n",
              "  1: {'FN': 6, 'FP': 0, 'TN': 8936, 'TP': 1058},\n",
              "  2: {'FN': 57, 'FP': 0, 'TN': 9010, 'TP': 933},\n",
              "  3: {'FN': 35, 'FP': 0, 'TN': 8970, 'TP': 995},\n",
              "  4: {'FN': 51, 'FP': 0, 'TN': 9017, 'TP': 932},\n",
              "  5: {'FN': 50, 'FP': 0, 'TN': 9085, 'TP': 865},\n",
              "  6: {'FN': 6, 'FP': 0, 'TN': 9033, 'TP': 961},\n",
              "  7: {'FN': 35, 'FP': 0, 'TN': 8910, 'TP': 1055},\n",
              "  8: {'FN': 92, 'FP': 0, 'TN': 8991, 'TP': 917},\n",
              "  9: {'FN': 49, 'FP': 0, 'TN': 9039, 'TP': 912}},\n",
              " 28: {0: {'FN': 8, 'FP': 0, 'TN': 9009, 'TP': 983},\n",
              "  1: {'FN': 6, 'FP': 0, 'TN': 8936, 'TP': 1058},\n",
              "  2: {'FN': 58, 'FP': 0, 'TN': 9010, 'TP': 932},\n",
              "  3: {'FN': 36, 'FP': 0, 'TN': 8970, 'TP': 994},\n",
              "  4: {'FN': 49, 'FP': 0, 'TN': 9017, 'TP': 934},\n",
              "  5: {'FN': 52, 'FP': 0, 'TN': 9085, 'TP': 863},\n",
              "  6: {'FN': 6, 'FP': 0, 'TN': 9033, 'TP': 961},\n",
              "  7: {'FN': 35, 'FP': 0, 'TN': 8910, 'TP': 1055},\n",
              "  8: {'FN': 94, 'FP': 0, 'TN': 8991, 'TP': 915},\n",
              "  9: {'FN': 48, 'FP': 0, 'TN': 9039, 'TP': 913}},\n",
              " 29: {0: {'FN': 8, 'FP': 0, 'TN': 9009, 'TP': 983},\n",
              "  1: {'FN': 6, 'FP': 0, 'TN': 8936, 'TP': 1058},\n",
              "  2: {'FN': 59, 'FP': 0, 'TN': 9010, 'TP': 931},\n",
              "  3: {'FN': 37, 'FP': 0, 'TN': 8970, 'TP': 993},\n",
              "  4: {'FN': 51, 'FP': 0, 'TN': 9017, 'TP': 932},\n",
              "  5: {'FN': 54, 'FP': 0, 'TN': 9085, 'TP': 861},\n",
              "  6: {'FN': 7, 'FP': 0, 'TN': 9033, 'TP': 960},\n",
              "  7: {'FN': 35, 'FP': 0, 'TN': 8910, 'TP': 1055},\n",
              "  8: {'FN': 91, 'FP': 0, 'TN': 8991, 'TP': 918},\n",
              "  9: {'FN': 47, 'FP': 0, 'TN': 9039, 'TP': 914}}}"
            ]
          },
          "metadata": {},
          "execution_count": 29
        }
      ]
    },
    {
      "cell_type": "code",
      "metadata": {
        "colab": {
          "base_uri": "https://localhost:8080/"
        },
        "id": "Zze8XfoLcPow",
        "outputId": "164e3f95-0b05-4ae2-b303-d36914d33b9a"
      },
      "source": [
        "accuracy_knn={}\n",
        "for k in corrected_knn_validation_result.keys():\n",
        "  acc={}\n",
        "  for c,re in corrected_knn_validation_result[k].items():\n",
        "    acc[c]=(re['TP']+re['TN'])/(re['TP']+re['TN']+re['FP']+re['FN'])\n",
        "  accuracy_knn[k]=acc\n",
        "accuracy_knn"
      ],
      "execution_count": null,
      "outputs": [
        {
          "output_type": "execute_result",
          "data": {
            "text/plain": [
              "{1: {0: 0.9992,\n",
              "  1: 0.9994,\n",
              "  2: 0.9971,\n",
              "  3: 0.9965,\n",
              "  4: 0.9962,\n",
              "  5: 0.9954,\n",
              "  6: 0.9997,\n",
              "  7: 0.9978,\n",
              "  8: 0.9945,\n",
              "  9: 0.9954},\n",
              " 2: {0: 0.9997,\n",
              "  1: 0.9998,\n",
              "  2: 0.9972,\n",
              "  3: 0.9978,\n",
              "  4: 0.9974,\n",
              "  5: 0.9944,\n",
              "  6: 0.9992,\n",
              "  7: 0.9978,\n",
              "  8: 0.9918,\n",
              "  9: 0.9916},\n",
              " 3: {0: 0.9993,\n",
              "  1: 0.9996,\n",
              "  2: 0.9963,\n",
              "  3: 0.9972,\n",
              "  4: 0.9968,\n",
              "  5: 0.9954,\n",
              "  6: 0.9997,\n",
              "  7: 0.9981,\n",
              "  8: 0.9938,\n",
              "  9: 0.9958},\n",
              " 4: {0: 0.9994,\n",
              "  1: 0.9996,\n",
              "  2: 0.9969,\n",
              "  3: 0.9983,\n",
              "  4: 0.997,\n",
              "  5: 0.995,\n",
              "  6: 0.9998,\n",
              "  7: 0.998,\n",
              "  8: 0.9933,\n",
              "  9: 0.9953},\n",
              " 5: {0: 0.9993,\n",
              "  1: 0.9996,\n",
              "  2: 0.9964,\n",
              "  3: 0.9976,\n",
              "  4: 0.9964,\n",
              "  5: 0.9955,\n",
              "  6: 0.9996,\n",
              "  7: 0.9979,\n",
              "  8: 0.9935,\n",
              "  9: 0.996},\n",
              " 6: {0: 0.9994,\n",
              "  1: 0.9996,\n",
              "  2: 0.9965,\n",
              "  3: 0.9978,\n",
              "  4: 0.9967,\n",
              "  5: 0.9949,\n",
              "  6: 0.9996,\n",
              "  7: 0.9977,\n",
              "  8: 0.9935,\n",
              "  9: 0.9953},\n",
              " 7: {0: 0.9993,\n",
              "  1: 0.9997,\n",
              "  2: 0.9961,\n",
              "  3: 0.9978,\n",
              "  4: 0.9961,\n",
              "  5: 0.9954,\n",
              "  6: 0.9996,\n",
              "  7: 0.9973,\n",
              "  8: 0.9937,\n",
              "  9: 0.9958},\n",
              " 8: {0: 0.9994,\n",
              "  1: 0.9997,\n",
              "  2: 0.9962,\n",
              "  3: 0.9979,\n",
              "  4: 0.9965,\n",
              "  5: 0.9953,\n",
              "  6: 0.9997,\n",
              "  7: 0.9974,\n",
              "  8: 0.9929,\n",
              "  9: 0.9958},\n",
              " 9: {0: 0.9994,\n",
              "  1: 0.9996,\n",
              "  2: 0.996,\n",
              "  3: 0.9976,\n",
              "  4: 0.9961,\n",
              "  5: 0.9958,\n",
              "  6: 0.9997,\n",
              "  7: 0.9974,\n",
              "  8: 0.9932,\n",
              "  9: 0.9957},\n",
              " 10: {0: 0.9994,\n",
              "  1: 0.9995,\n",
              "  2: 0.9962,\n",
              "  3: 0.9976,\n",
              "  4: 0.9964,\n",
              "  5: 0.9955,\n",
              "  6: 0.9997,\n",
              "  7: 0.9973,\n",
              "  8: 0.9929,\n",
              "  9: 0.9956},\n",
              " 11: {0: 0.9993,\n",
              "  1: 0.9994,\n",
              "  2: 0.9958,\n",
              "  3: 0.9975,\n",
              "  4: 0.9961,\n",
              "  5: 0.9956,\n",
              "  6: 0.9997,\n",
              "  7: 0.9974,\n",
              "  8: 0.9923,\n",
              "  9: 0.9961},\n",
              " 12: {0: 0.9994,\n",
              "  1: 0.9995,\n",
              "  2: 0.9957,\n",
              "  3: 0.9976,\n",
              "  4: 0.996,\n",
              "  5: 0.9953,\n",
              "  6: 0.9995,\n",
              "  7: 0.9972,\n",
              "  8: 0.9917,\n",
              "  9: 0.9958},\n",
              " 13: {0: 0.9994,\n",
              "  1: 0.9994,\n",
              "  2: 0.9956,\n",
              "  3: 0.9974,\n",
              "  4: 0.9962,\n",
              "  5: 0.9954,\n",
              "  6: 0.9996,\n",
              "  7: 0.9971,\n",
              "  8: 0.9919,\n",
              "  9: 0.9958},\n",
              " 14: {0: 0.9994,\n",
              "  1: 0.9994,\n",
              "  2: 0.9955,\n",
              "  3: 0.9971,\n",
              "  4: 0.9962,\n",
              "  5: 0.9952,\n",
              "  6: 0.9996,\n",
              "  7: 0.9971,\n",
              "  8: 0.9916,\n",
              "  9: 0.9953},\n",
              " 15: {0: 0.9994,\n",
              "  1: 0.9995,\n",
              "  2: 0.9952,\n",
              "  3: 0.9973,\n",
              "  4: 0.9961,\n",
              "  5: 0.9953,\n",
              "  6: 0.9995,\n",
              "  7: 0.9971,\n",
              "  8: 0.9918,\n",
              "  9: 0.9952},\n",
              " 16: {0: 0.9993,\n",
              "  1: 0.9995,\n",
              "  2: 0.9952,\n",
              "  3: 0.9972,\n",
              "  4: 0.9966,\n",
              "  5: 0.9951,\n",
              "  6: 0.9995,\n",
              "  7: 0.997,\n",
              "  8: 0.9917,\n",
              "  9: 0.995},\n",
              " 17: {0: 0.9992,\n",
              "  1: 0.9994,\n",
              "  2: 0.9949,\n",
              "  3: 0.997,\n",
              "  4: 0.9961,\n",
              "  5: 0.9955,\n",
              "  6: 0.9994,\n",
              "  7: 0.9973,\n",
              "  8: 0.9918,\n",
              "  9: 0.9953},\n",
              " 18: {0: 0.9993,\n",
              "  1: 0.9994,\n",
              "  2: 0.9948,\n",
              "  3: 0.9971,\n",
              "  4: 0.996,\n",
              "  5: 0.9952,\n",
              "  6: 0.9994,\n",
              "  7: 0.9973,\n",
              "  8: 0.9918,\n",
              "  9: 0.9948},\n",
              " 19: {0: 0.9993,\n",
              "  1: 0.9994,\n",
              "  2: 0.9948,\n",
              "  3: 0.9969,\n",
              "  4: 0.9959,\n",
              "  5: 0.9952,\n",
              "  6: 0.9994,\n",
              "  7: 0.9972,\n",
              "  8: 0.992,\n",
              "  9: 0.9952},\n",
              " 20: {0: 0.9993,\n",
              "  1: 0.9994,\n",
              "  2: 0.9947,\n",
              "  3: 0.9971,\n",
              "  4: 0.9954,\n",
              "  5: 0.9952,\n",
              "  6: 0.9994,\n",
              "  7: 0.9971,\n",
              "  8: 0.9916,\n",
              "  9: 0.9949},\n",
              " 21: {0: 0.9993,\n",
              "  1: 0.9993,\n",
              "  2: 0.9949,\n",
              "  3: 0.9972,\n",
              "  4: 0.9954,\n",
              "  5: 0.9954,\n",
              "  6: 0.9994,\n",
              "  7: 0.997,\n",
              "  8: 0.9916,\n",
              "  9: 0.9954},\n",
              " 22: {0: 0.9993,\n",
              "  1: 0.9994,\n",
              "  2: 0.9947,\n",
              "  3: 0.9972,\n",
              "  4: 0.9955,\n",
              "  5: 0.9951,\n",
              "  6: 0.9994,\n",
              "  7: 0.9968,\n",
              "  8: 0.9911,\n",
              "  9: 0.9952},\n",
              " 23: {0: 0.9992,\n",
              "  1: 0.9993,\n",
              "  2: 0.9945,\n",
              "  3: 0.9973,\n",
              "  4: 0.9953,\n",
              "  5: 0.9952,\n",
              "  6: 0.9994,\n",
              "  7: 0.9968,\n",
              "  8: 0.991,\n",
              "  9: 0.9952},\n",
              " 24: {0: 0.9993,\n",
              "  1: 0.9993,\n",
              "  2: 0.9947,\n",
              "  3: 0.997,\n",
              "  4: 0.9953,\n",
              "  5: 0.9951,\n",
              "  6: 0.9994,\n",
              "  7: 0.9966,\n",
              "  8: 0.9906,\n",
              "  9: 0.9951},\n",
              " 25: {0: 0.9992,\n",
              "  1: 0.9994,\n",
              "  2: 0.9944,\n",
              "  3: 0.9967,\n",
              "  4: 0.9953,\n",
              "  5: 0.9949,\n",
              "  6: 0.9994,\n",
              "  7: 0.9967,\n",
              "  8: 0.9905,\n",
              "  9: 0.9953},\n",
              " 26: {0: 0.9992,\n",
              "  1: 0.9994,\n",
              "  2: 0.9945,\n",
              "  3: 0.9967,\n",
              "  4: 0.9955,\n",
              "  5: 0.995,\n",
              "  6: 0.9994,\n",
              "  7: 0.9965,\n",
              "  8: 0.9909,\n",
              "  9: 0.9951},\n",
              " 27: {0: 0.9992,\n",
              "  1: 0.9994,\n",
              "  2: 0.9943,\n",
              "  3: 0.9965,\n",
              "  4: 0.9949,\n",
              "  5: 0.995,\n",
              "  6: 0.9994,\n",
              "  7: 0.9965,\n",
              "  8: 0.9908,\n",
              "  9: 0.9951},\n",
              " 28: {0: 0.9992,\n",
              "  1: 0.9994,\n",
              "  2: 0.9942,\n",
              "  3: 0.9964,\n",
              "  4: 0.9951,\n",
              "  5: 0.9948,\n",
              "  6: 0.9994,\n",
              "  7: 0.9965,\n",
              "  8: 0.9906,\n",
              "  9: 0.9952},\n",
              " 29: {0: 0.9992,\n",
              "  1: 0.9994,\n",
              "  2: 0.9941,\n",
              "  3: 0.9963,\n",
              "  4: 0.9949,\n",
              "  5: 0.9946,\n",
              "  6: 0.9993,\n",
              "  7: 0.9965,\n",
              "  8: 0.9909,\n",
              "  9: 0.9953}}"
            ]
          },
          "metadata": {},
          "execution_count": 30
        }
      ]
    },
    {
      "cell_type": "code",
      "metadata": {
        "colab": {
          "base_uri": "https://localhost:8080/"
        },
        "id": "IqQrAJKqdUe9",
        "outputId": "2b205e38-81a2-4e9b-f2e2-1ad281744ef3"
      },
      "source": [
        "import statistics as st\n",
        "accuracy_res={}\n",
        "for k in accuracy_knn.keys():\n",
        "  accuracy_res[k]=st.mean(accuracy_knn[k].values())\n",
        "accuracy_res"
      ],
      "execution_count": null,
      "outputs": [
        {
          "output_type": "execute_result",
          "data": {
            "text/plain": [
              "{1: 0.99712,\n",
              " 2: 0.99667,\n",
              " 3: 0.9972,\n",
              " 4: 0.99726,\n",
              " 5: 0.99718,\n",
              " 6: 0.9971,\n",
              " 7: 0.99708,\n",
              " 8: 0.99708,\n",
              " 9: 0.99705,\n",
              " 10: 0.99701,\n",
              " 11: 0.99692,\n",
              " 12: 0.99677,\n",
              " 13: 0.99678,\n",
              " 14: 0.99664,\n",
              " 15: 0.99664,\n",
              " 16: 0.99661,\n",
              " 17: 0.99659,\n",
              " 18: 0.99651,\n",
              " 19: 0.99653,\n",
              " 20: 0.99641,\n",
              " 21: 0.99649,\n",
              " 22: 0.99637,\n",
              " 23: 0.99632,\n",
              " 24: 0.99624,\n",
              " 25: 0.99618,\n",
              " 26: 0.99622,\n",
              " 27: 0.99611,\n",
              " 28: 0.99608,\n",
              " 29: 0.99605}"
            ]
          },
          "metadata": {},
          "execution_count": 31
        }
      ]
    },
    {
      "cell_type": "code",
      "metadata": {
        "colab": {
          "base_uri": "https://localhost:8080/"
        },
        "id": "QIunKc9reemW",
        "outputId": "8bcfd620-ce46-4876-881c-e1abc1e50d3c"
      },
      "source": [
        "best_k=max(accuracy_res, key=accuracy_res.get)\n",
        "best_k"
      ],
      "execution_count": null,
      "outputs": [
        {
          "output_type": "execute_result",
          "data": {
            "text/plain": [
              "4"
            ]
          },
          "metadata": {},
          "execution_count": 32
        }
      ]
    },
    {
      "cell_type": "markdown",
      "metadata": {
        "id": "ZYBvLiu9ixmZ"
      },
      "source": [
        "**Best fit for Test dataset with k=4**"
      ]
    },
    {
      "cell_type": "code",
      "metadata": {
        "id": "eGsK8cPySwL0"
      },
      "source": [
        "#Test dataset- distance List Part1\n",
        "\n",
        "distance_list1=create_dist_list(x_test_fl[:2500,:],x_train_tr_fl)\n",
        "df_dist1 = pd.DataFrame(distance_list1)\n",
        "FOLDER_PATH ='/content/drive/MyDrive/Automn 2021/Machin Learning/Assignment2'\n",
        "index_path = os.path.join(FOLDER_PATH, 'test_distance1.csv')\n",
        "df_dist1.to_csv(open(index_path,'w'), index=False, encoding='utf-8-sig')"
      ],
      "execution_count": null,
      "outputs": []
    },
    {
      "cell_type": "code",
      "metadata": {
        "id": "jdHq4D9SjWhu"
      },
      "source": [
        "#Test dataset- distance List Part2\n",
        "\n",
        "distance_list2=create_dist_list(x_test_fl[2500:5000,:],x_train_tr_fl)\n",
        "df_dist2 = pd.DataFrame(distance_list2)\n",
        "FOLDER_PATH ='/content/drive/MyDrive/Automn 2021/Machin Learning/Assignment2'\n",
        "index_path = os.path.join(FOLDER_PATH, 'test_distance2.csv')\n",
        "df_dist2.to_csv(open(index_path,'w'), index=False, encoding='utf-8-sig')"
      ],
      "execution_count": null,
      "outputs": []
    },
    {
      "cell_type": "code",
      "metadata": {
        "id": "XiXPY5SjjXGc"
      },
      "source": [
        "#Test dataset- distance List Part3\n",
        "\n",
        "distance_list3=create_dist_list(x_test_fl[5000:7500,:],x_train_tr_fl)\n",
        "df_dist3 = pd.DataFrame(distance_list3)\n",
        "FOLDER_PATH ='/content/drive/MyDrive/Automn 2021/Machin Learning/Assignment2'\n",
        "index_path = os.path.join(FOLDER_PATH, 'test_distance3.csv')\n",
        "df_dist3.to_csv(open(index_path,'w'), index=False, encoding='utf-8-sig')"
      ],
      "execution_count": null,
      "outputs": []
    },
    {
      "cell_type": "code",
      "metadata": {
        "id": "ce28VuF6jXxE"
      },
      "source": [
        "#Test dataset- distance List Part4\n",
        "\n",
        "distance_list4=create_dist_list(x_test_fl[7500:,:],x_train_tr_fl)\n",
        "df_dist4 = pd.DataFrame(distance_list4)\n",
        "FOLDER_PATH ='/content/drive/MyDrive/Automn 2021/Machin Learning/Assignment2'\n",
        "index_path = os.path.join(FOLDER_PATH, 'test_distance4.csv')\n",
        "df_dist4.to_csv(open(index_path,'w'), index=False, encoding='utf-8-sig')"
      ],
      "execution_count": null,
      "outputs": []
    },
    {
      "cell_type": "code",
      "metadata": {
        "id": "FKdj7OFJq0tl"
      },
      "source": [
        "#import distance List part 1 for test dataset and finding 5 narest neighbors  and saving the neighbors in 'test_MNIST_Knn_1.csv'\n",
        "import pandas as pd\n",
        "test_dist1=pd.read_csv('/content/drive/MyDrive/assignment2-2-2-b/test_distance1.csv')\n",
        "\n",
        "test_class_list1=[]\n",
        "best_k=4\n",
        "for j in range(len(x_test_fl[:2500,:])):\n",
        "  k_neighbors_index=np.argsort(test_dist1[j:j+1].to_numpy(), axis=1)[0][:best_k]\n",
        "  k_neighbors=y_train_tr[k_neighbors_index]\n",
        "  counts = np.unique(k_neighbors, return_counts=True)\n",
        "  c=counts[0][np.argmax(counts[1])]\n",
        "  test_class_list1.append(c)\n",
        "\n",
        "import os\n",
        "df_class_list1 = pd.DataFrame(test_class_list1)\n",
        "FOLDER_PATH ='/content/drive/MyDrive/assignment2-2-2-b'\n",
        "index_path = os.path.join(FOLDER_PATH, 'test_MNIST_Knn_1_1.csv')\n",
        "df_class_list1.to_csv(open(index_path,'w'), index=False, encoding='utf-8-sig')"
      ],
      "execution_count": null,
      "outputs": []
    },
    {
      "cell_type": "code",
      "metadata": {
        "id": "RyPbDgWUr8AN"
      },
      "source": [
        "#import distance List part 2 for test dataset and finding 5 narest neighbors  and saving the neighbors in 'test_MNIST_Knn_2.csv'\n",
        "import pandas as pd\n",
        "test_dist2=pd.read_csv('/content/drive/MyDrive/assignment2-2-2-b/test_distance2.csv')\n",
        "\n",
        "test_class_list2=[]\n",
        "best_k=4\n",
        "for j in range(len(x_test_fl[:2500,:])):\n",
        "  k_neighbors_index=np.argsort(test_dist2[j:j+1].to_numpy(), axis=1)[0][:best_k]\n",
        "  k_neighbors=y_train_tr[k_neighbors_index]\n",
        "  counts = np.unique(k_neighbors, return_counts=True)\n",
        "  c=counts[0][np.argmax(counts[1])]\n",
        "  test_class_list2.append(c)\n",
        "\n",
        "import os\n",
        "df_class_list2 = pd.DataFrame(test_class_list2)\n",
        "FOLDER_PATH ='/content/drive/MyDrive/assignment2-2-2-b'\n",
        "index_path = os.path.join(FOLDER_PATH, 'test_MNIST_Knn_2_1.csv')\n",
        "df_class_list2.to_csv(open(index_path,'w'), index=False, encoding='utf-8-sig')"
      ],
      "execution_count": null,
      "outputs": []
    },
    {
      "cell_type": "code",
      "metadata": {
        "id": "GiZ-cliDsFMi"
      },
      "source": [
        "#import distance List part 3 for test dataset and finding 5 narest neighbors  and saving the neighbors in 'test_MNIST_Knn_3.csv'\n",
        "import pandas as pd\n",
        "test_dist3=pd.read_csv('/content/drive/MyDrive/assignment2-2-2-b/test_distance3.csv')\n",
        "\n",
        "test_class_list3=[]\n",
        "best_k=4\n",
        "for j in range(len(x_test_fl[:2500,:])):\n",
        "  k_neighbors_index=np.argsort(test_dist3[j:j+1].to_numpy(), axis=1)[0][:best_k]\n",
        "  k_neighbors=y_train_tr[k_neighbors_index]\n",
        "  counts = np.unique(k_neighbors, return_counts=True)\n",
        "  c=counts[0][np.argmax(counts[1])]\n",
        "  test_class_list3.append(c)\n",
        "\n",
        "import os\n",
        "df_class_list3 = pd.DataFrame(test_class_list3)\n",
        "FOLDER_PATH ='/content/drive/MyDrive/assignment2-2-2-b'\n",
        "index_path = os.path.join(FOLDER_PATH, 'test_MNIST_Knn_3_1.csv')\n",
        "df_class_list3.to_csv(open(index_path,'w'), index=False, encoding='utf-8-sig')"
      ],
      "execution_count": null,
      "outputs": []
    },
    {
      "cell_type": "code",
      "metadata": {
        "id": "gvr9I9zxsQax"
      },
      "source": [
        "#import distance List part 4 for test dataset and finding 5 narest neighbors  and saving the neighbors in 'test_MNIST_Knn_4.csv'\n",
        "import pandas as pd\n",
        "test_dist4=pd.read_csv('/content/drive/MyDrive/assignment2-2-2-b/test_distance4.csv')\n",
        "\n",
        "test_class_list4=[]\n",
        "best_k=4\n",
        "for j in range(len(x_test_fl[:2500,:])):\n",
        "  k_neighbors_index=np.argsort(test_dist4[j:j+1].to_numpy(), axis=1)[0][:best_k]\n",
        "  k_neighbors=y_train_tr[k_neighbors_index]\n",
        "  counts = np.unique(k_neighbors, return_counts=True)\n",
        "  c=counts[0][np.argmax(counts[1])]\n",
        "  test_class_list4.append(c)\n",
        "\n",
        "import os\n",
        "df_class_list4 = pd.DataFrame(test_class_list4)\n",
        "FOLDER_PATH ='/content/drive/MyDrive/assignment2-2-2-b'\n",
        "index_path = os.path.join(FOLDER_PATH, 'test_MNIST_Knn_4_1.csv')\n",
        "df_class_list4.to_csv(open(index_path,'w'), index=False, encoding='utf-8-sig')"
      ],
      "execution_count": null,
      "outputs": []
    },
    {
      "cell_type": "code",
      "metadata": {
        "id": "jTNYgLrIr2An"
      },
      "source": [
        "#reading 4 prediction files for test set and merging them\n",
        "test_pred1=pd.read_csv('/content/drive/MyDrive/assignment2-2-2-b/test_MNIST_Knn_1_1.csv')\n",
        "test_pred2=pd.read_csv('/content/drive/MyDrive/assignment2-2-2-b/test_MNIST_Knn_2_1.csv')\n",
        "test_pred3=pd.read_csv('/content/drive/MyDrive/assignment2-2-2-b/test_MNIST_Knn_3_1.csv')\n",
        "test_pred4=pd.read_csv('/content/drive/MyDrive/assignment2-2-2-b/test_MNIST_Knn_4_1.csv')\n",
        "\n",
        "test_predi_total=np.transpose(pd.concat([test_pred1,test_pred2,test_pred3,test_pred4], ignore_index=True).to_numpy())[0]"
      ],
      "execution_count": null,
      "outputs": []
    },
    {
      "cell_type": "code",
      "metadata": {
        "id": "gB_E992Ar6ph"
      },
      "source": [
        "# calculating the result for each class at different K\n",
        "def calc_results(knn_lists, y_test):\n",
        "  knn_result={}\n",
        "  for i in np.sort(np.unique(y_test, return_counts=True)[0]):\n",
        "    metric={'TP':0,'TN':0,'FP':0,'FN':0}\n",
        "    for j,k in enumerate(knn_lists):\n",
        "      if k==y_test[j]==i:\n",
        "        metric['TP']+=1\n",
        "      elif k!=y_test[j]==i:\n",
        "        metric['FN']+=1\n",
        "      elif y_test[j]!=knn_result==i:\n",
        "        metric['FP']+=1\n",
        "      else:\n",
        "        metric['TN']+=1\n",
        "    knn_result[i]=metric\n",
        "  return knn_result"
      ],
      "execution_count": null,
      "outputs": []
    },
    {
      "cell_type": "code",
      "metadata": {
        "id": "NJYYpFD3r_XQ"
      },
      "source": [
        "knn_test_result=calc_results(test_predi_total, y_test)"
      ],
      "execution_count": null,
      "outputs": []
    },
    {
      "cell_type": "code",
      "metadata": {
        "colab": {
          "base_uri": "https://localhost:8080/"
        },
        "id": "q10gMCEkPOFe",
        "outputId": "f382548a-7f86-4fdb-d36b-750a973d129e"
      },
      "source": [
        "knn_test_result"
      ],
      "execution_count": null,
      "outputs": [
        {
          "output_type": "execute_result",
          "data": {
            "text/plain": [
              "{0: {'FN': 6, 'FP': 0, 'TN': 9020, 'TP': 974},\n",
              " 1: {'FN': 3, 'FP': 0, 'TN': 8865, 'TP': 1132},\n",
              " 2: {'FN': 44, 'FP': 0, 'TN': 8968, 'TP': 988},\n",
              " 3: {'FN': 31, 'FP': 0, 'TN': 8990, 'TP': 979},\n",
              " 4: {'FN': 35, 'FP': 0, 'TN': 9018, 'TP': 947},\n",
              " 5: {'FN': 36, 'FP': 0, 'TN': 9108, 'TP': 856},\n",
              " 6: {'FN': 16, 'FP': 0, 'TN': 9042, 'TP': 942},\n",
              " 7: {'FN': 43, 'FP': 0, 'TN': 8972, 'TP': 985},\n",
              " 8: {'FN': 74, 'FP': 0, 'TN': 9026, 'TP': 900},\n",
              " 9: {'FN': 54, 'FP': 0, 'TN': 8991, 'TP': 955}}"
            ]
          },
          "metadata": {},
          "execution_count": 22
        }
      ]
    },
    {
      "cell_type": "code",
      "metadata": {
        "colab": {
          "base_uri": "https://localhost:8080/"
        },
        "id": "JaldwQYn_5vH",
        "outputId": "90e45f1b-0501-445f-e2fe-e524f6e0fba9"
      },
      "source": [
        "accuracy_knn_test={}\n",
        "for i,re in knn_test_result.items():\n",
        "  accuracy_knn_test[i]=(re['TP']+re['TN'])/(re['TP']+re['TN']+re['FP']+re['FN'])\n",
        "accuracy_knn_test"
      ],
      "execution_count": null,
      "outputs": [
        {
          "output_type": "execute_result",
          "data": {
            "text/plain": [
              "{0: 0.9994,\n",
              " 1: 0.9997,\n",
              " 2: 0.9956,\n",
              " 3: 0.9969,\n",
              " 4: 0.9965,\n",
              " 5: 0.9964,\n",
              " 6: 0.9984,\n",
              " 7: 0.9957,\n",
              " 8: 0.9926,\n",
              " 9: 0.9946}"
            ]
          },
          "metadata": {},
          "execution_count": 23
        }
      ]
    },
    {
      "cell_type": "code",
      "metadata": {
        "colab": {
          "base_uri": "https://localhost:8080/"
        },
        "id": "GCwkRjL9Ab4W",
        "outputId": "986fd99a-7806-4b60-f5e4-fdc300d3d3c0"
      },
      "source": [
        "import statistics as st\n",
        "accuracy_test=st.mean(accuracy_knn_test.values())\n",
        "accuracy_test"
      ],
      "execution_count": null,
      "outputs": [
        {
          "output_type": "execute_result",
          "data": {
            "text/plain": [
              "0.99658"
            ]
          },
          "metadata": {},
          "execution_count": 24
        }
      ]
    }
  ]
}